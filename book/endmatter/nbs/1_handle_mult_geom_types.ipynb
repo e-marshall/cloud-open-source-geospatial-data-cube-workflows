{
 "cells": [
  {
   "cell_type": "markdown",
   "metadata": {},
   "source": [
    "# Handling different geometry types in a `GeoPandas.GeoDataFrame`\n",
    "\n",
    "This notebook will pick up on the error we encountered in an earlier notebook. We show a step-by-step process of troubleshooting and resolving the error. "
   ]
  },
  {
   "cell_type": "markdown",
   "metadata": {},
   "source": [
    "It looks like we're getting a warning on the `explore()` method that is interfering with the functionality that displays feature info when you hover over a feature. Let's dig into it and see what's going on. It looks like the issue is being caused by rows of the `GeoDataFrame` object that have a 'GeometryCollection' geometry type. First, I'm going to copy the warning into a cell below. The warning is already in the form of a list of dictionaries, which makes it nice to work with:"
   ]
  },
  {
   "cell_type": "markdown",
   "metadata": {},
   "source": [
    "Here is the error message separated from the problem geometries: \n",
    "```\n",
    "/home/../python3.11/site-packages/folium/features.py:1102: UserWarning: GeoJsonTooltip is not configured to render for GeoJson GeometryCollection geometries. Please consider reworking these features: ..... to MultiPolygon for full functionality.\n",
    "```\n",
    "And below are the problem geometries identified in the error message saved as a list of dictionaries:"
   ]
  },
  {
   "cell_type": "code",
   "execution_count": null,
   "metadata": {},
   "outputs": [],
   "source": [
    "problem_geoms = [\n",
    "    {\n",
    "        \"rgi_id\": \"RGI2000-v7.0-G-15-16433\",\n",
    "        \"o1region\": \"15\",\n",
    "        \"o2region\": \"15-03\",\n",
    "        \"glims_id\": \"G095721E29941N\",\n",
    "        \"anlys_id\": 929520,\n",
    "        \"subm_id\": 752,\n",
    "        \"src_date\": \"2005-09-08T00:00:00\",\n",
    "        \"cenlon\": 95.7211016152286,\n",
    "        \"cenlat\": 29.940902187781784,\n",
    "        \"utm_zone\": 46,\n",
    "        \"area_km2\": 0.340954350813452,\n",
    "        \"primeclass\": 0,\n",
    "        \"conn_lvl\": 0,\n",
    "        \"surge_type\": 0,\n",
    "        \"term_type\": 9,\n",
    "        \"glac_name\": None,\n",
    "        \"is_rgi6\": 0,\n",
    "        \"termlon\": 95.72222864596793,\n",
    "        \"termlat\": 29.937137080413784,\n",
    "        \"zmin_m\": 4657.792,\n",
    "        \"zmax_m\": 5049.5625,\n",
    "        \"zmed_m\": 4825.1104,\n",
    "        \"zmean_m\": 4839.4185,\n",
    "        \"slope_deg\": 23.704372,\n",
    "        \"aspect_deg\": 145.20973,\n",
    "        \"aspect_sec\": 4,\n",
    "        \"dem_source\": \"COPDEM30\",\n",
    "        \"lmax_m\": 891,\n",
    "    },\n",
    "    {\n",
    "        \"rgi_id\": \"RGI2000-v7.0-G-15-12194\",\n",
    "        \"o1region\": \"15\",\n",
    "        \"o2region\": \"15-03\",\n",
    "        \"glims_id\": \"G095869E30315N\",\n",
    "        \"anlys_id\": 929951,\n",
    "        \"subm_id\": 752,\n",
    "        \"src_date\": \"2005-09-08T00:00:00\",\n",
    "        \"cenlon\": 95.86889789565677,\n",
    "        \"cenlat\": 30.3147685,\n",
    "        \"utm_zone\": 46,\n",
    "        \"area_km2\": 8.797406997273084,\n",
    "        \"primeclass\": 0,\n",
    "        \"conn_lvl\": 0,\n",
    "        \"surge_type\": 0,\n",
    "        \"term_type\": 9,\n",
    "        \"glac_name\": None,\n",
    "        \"is_rgi6\": 0,\n",
    "        \"termlon\": 95.89518363763428,\n",
    "        \"termlat\": 30.307036248571297,\n",
    "        \"zmin_m\": 4642.1445,\n",
    "        \"zmax_m\": 5278.752,\n",
    "        \"zmed_m\": 5011.06,\n",
    "        \"zmean_m\": 4993.9243,\n",
    "        \"slope_deg\": 12.372513,\n",
    "        \"aspect_deg\": 81.418945,\n",
    "        \"aspect_sec\": 3,\n",
    "        \"dem_source\": \"COPDEM30\",\n",
    "        \"lmax_m\": 4994,\n",
    "    },\n",
    "    {\n",
    "        \"rgi_id\": \"RGI2000-v7.0-G-15-11941\",\n",
    "        \"o1region\": \"15\",\n",
    "        \"o2region\": \"15-03\",\n",
    "        \"glims_id\": \"G095301E30377N\",\n",
    "        \"anlys_id\": 928228,\n",
    "        \"subm_id\": 752,\n",
    "        \"src_date\": \"2007-08-20T00:00:00\",\n",
    "        \"cenlon\": 95.30071978915663,\n",
    "        \"cenlat\": 30.3770025,\n",
    "        \"utm_zone\": 46,\n",
    "        \"area_km2\": 0.267701958906151,\n",
    "        \"primeclass\": 0,\n",
    "        \"conn_lvl\": 0,\n",
    "        \"surge_type\": 0,\n",
    "        \"term_type\": 9,\n",
    "        \"glac_name\": None,\n",
    "        \"is_rgi6\": 0,\n",
    "        \"termlon\": 95.30345982475616,\n",
    "        \"termlat\": 30.380097687364806,\n",
    "        \"zmin_m\": 5475.784,\n",
    "        \"zmax_m\": 5977.979,\n",
    "        \"zmed_m\": 5750.727,\n",
    "        \"zmean_m\": 5759.621,\n",
    "        \"slope_deg\": 41.069595,\n",
    "        \"aspect_deg\": 350.3331518173218,\n",
    "        \"aspect_sec\": 1,\n",
    "        \"dem_source\": \"COPDEM30\",\n",
    "        \"lmax_m\": 807,\n",
    "    },\n",
    "]"
   ]
  },
  {
   "cell_type": "markdown",
   "metadata": {},
   "source": [
    "## Setup"
   ]
  },
  {
   "cell_type": "code",
   "execution_count": null,
   "metadata": {},
   "outputs": [],
   "source": [
    "import geopandas as gpd\n",
    "import pandas as pd"
   ]
  },
  {
   "cell_type": "code",
   "execution_count": null,
   "metadata": {},
   "outputs": [],
   "source": [
    "# Read initial gdf\n",
    "se_asia = gpd.read_parquet(\"../../itslive/data/vector_data/rgi7_region15_south_asia_east.parquet\")\n",
    "\n",
    "# Read bbox of ITS_LIVE data cube\n",
    "bbox_dc = gpd.read_file(\"../../itslive/data/vector_data/bbox_dc.geojson\")\n",
    "\n",
    "# Project the rgi outlines so that its CRS matches the CRS of the bbox\n",
    "se_asia_prj = se_asia.to_crs(bbox_dc.crs)\n",
    "assert se_asia_prj.crs == bbox_dc.crs, \"CRS of both object do not match.\"\n",
    "\n",
    "# Subset the RGI outlines by the bbox\n",
    "se_asia_subset = gpd.clip(se_asia_prj, bbox_dc)"
   ]
  },
  {
   "cell_type": "markdown",
   "metadata": {},
   "source": [
    "## Troubleshoot"
   ]
  },
  {
   "cell_type": "markdown",
   "metadata": {},
   "source": [
    "First, convert the problem_geoms object from a list of dictionary objects to a pandas.DataFrame object:"
   ]
  },
  {
   "cell_type": "code",
   "execution_count": null,
   "metadata": {},
   "outputs": [],
   "source": [
    "problem_geoms_df = pd.DataFrame(data=problem_geoms)"
   ]
  },
  {
   "cell_type": "markdown",
   "metadata": {},
   "source": [
    "Next, make a list of the IDs of the glaciers in this dataframe:"
   ]
  },
  {
   "cell_type": "code",
   "execution_count": null,
   "metadata": {},
   "outputs": [],
   "source": [
    "problem_geom_ids = problem_geoms_df[\"glims_id\"].to_list()\n",
    "problem_geom_ids"
   ]
  },
  {
   "cell_type": "markdown",
   "metadata": {},
   "source": [
    "Make a `geopandas.GeoDataFrame` object that is just the above-identified outlines:"
   ]
  },
  {
   "cell_type": "code",
   "execution_count": null,
   "metadata": {},
   "outputs": [],
   "source": [
    "problem_geoms_gdf = se_asia_subset.loc[se_asia_subset[\"glims_id\"].isin(problem_geom_ids)]"
   ]
  },
  {
   "cell_type": "markdown",
   "metadata": {},
   "source": [
    "Check the geometry-type of these outlines and compare them to another outline from the `se_asia_subset` object that wasn’t flagged:"
   ]
  },
  {
   "cell_type": "code",
   "execution_count": null,
   "metadata": {},
   "outputs": [],
   "source": [
    "problem_geoms_gdf.loc[problem_geoms_gdf[\"glims_id\"] == \"G095301E30377N\"].geom_type"
   ]
  },
  {
   "cell_type": "code",
   "execution_count": null,
   "metadata": {},
   "outputs": [],
   "source": [
    "se_asia_subset.loc[se_asia_subset[\"rgi_id\"] == \"RGI2000-v7.0-G-15-11754\"].geom_type"
   ]
  },
  {
   "cell_type": "markdown",
   "metadata": {},
   "source": [
    "Now, the warning we saw above makes more sense. Most features in `se_asia_subset` have `geom_type = Polygon` but the flagged features have `geom_type= GeometryCollection`. \n",
    "\n",
    "Let's dig a bit more into these flagged geometries. To do this, use the [geopandas method `explode()`](https://geopandas.org/en/stable/docs/reference/api/geopandas.GeoDataFrame.explode.html) to split multiple geometries into multiple single geometries."
   ]
  },
  {
   "cell_type": "code",
   "execution_count": null,
   "metadata": {},
   "outputs": [],
   "source": [
    "first_flagged_feature = problem_geoms_gdf[problem_geoms_gdf.glims_id == \"G095301E30377N\"].geometry.explode(\n",
    "    index_parts=True\n",
    ")"
   ]
  },
  {
   "cell_type": "markdown",
   "metadata": {},
   "source": [
    "Printing this object shows that it actually contains a polygon geometry and a linestring geometry:"
   ]
  },
  {
   "cell_type": "code",
   "execution_count": null,
   "metadata": {},
   "outputs": [],
   "source": [
    "first_flagged_feature"
   ]
  },
  {
   "cell_type": "markdown",
   "metadata": {},
   "source": [
    "Let's look at the other two: "
   ]
  },
  {
   "cell_type": "code",
   "execution_count": null,
   "metadata": {},
   "outputs": [],
   "source": [
    "second_flagged_feature = problem_geoms_gdf[problem_geoms_gdf.glims_id == \"G095869E30315N\"].geometry.explode(\n",
    "    index_parts=True\n",
    ")\n",
    "second_flagged_feature"
   ]
  },
  {
   "cell_type": "code",
   "execution_count": null,
   "metadata": {},
   "outputs": [],
   "source": [
    "third_flagged_feature = problem_geoms_gdf[problem_geoms_gdf.glims_id == \"G095721E29941N\"].geometry.explode(\n",
    "    index_parts=True\n",
    ")\n",
    "third_flagged_feature"
   ]
  },
  {
   "cell_type": "markdown",
   "metadata": {},
   "source": [
    "Check out some properties of the line geometry objects, such as length:"
   ]
  },
  {
   "cell_type": "code",
   "execution_count": null,
   "metadata": {},
   "outputs": [],
   "source": [
    "print(third_flagged_feature[1:].length.iloc[0])\n",
    "print(second_flagged_feature[1:].length.iloc[0])\n",
    "print(third_flagged_feature[1:].length.iloc[0])"
   ]
  },
  {
   "cell_type": "markdown",
   "metadata": {},
   "source": [
    "It looks like all of the linestring objects are very small, possibly artifacts, and don't need to remain in the dataset. For simplicity, we can remove them from the original object. There are different ways to do this, but here's one approach:\n",
    "\n",
    "1. Identify and remove all features with the `GeometryCollection` geom_type:"
   ]
  },
  {
   "cell_type": "code",
   "execution_count": null,
   "metadata": {},
   "outputs": [],
   "source": [
    "se_asia_subset_polygon = se_asia_subset[\n",
    "    ~se_asia_subset[\"geometry\"].apply(lambda x: x.geom_type == \"GeometryCollection\")\n",
    "]"
   ]
  },
  {
   "cell_type": "markdown",
   "metadata": {},
   "source": [
    "2. Remove the line geometries from the `GeometryCollection` features:"
   ]
  },
  {
   "cell_type": "code",
   "execution_count": null,
   "metadata": {},
   "outputs": [],
   "source": [
    "se_asia_subset_geom_collection = se_asia_subset[\n",
    "    se_asia_subset[\"geometry\"].astype(object).apply(lambda x: x.geom_type == \"GeometryCollection\")\n",
    "]"
   ]
  },
  {
   "cell_type": "markdown",
   "metadata": {},
   "source": [
    "3. Make an object that is just the features where `geom_type` = Polygon:"
   ]
  },
  {
   "cell_type": "code",
   "execution_count": null,
   "metadata": {},
   "outputs": [],
   "source": [
    "keep_polygons = se_asia_subset_geom_collection.explode(index_parts=True).loc[\n",
    "    se_asia_subset_geom_collection.explode(index_parts=True).geom_type == \"Polygon\"\n",
    "]"
   ]
  },
  {
   "cell_type": "markdown",
   "metadata": {},
   "source": [
    "4. Append the polygons to the `se_asia_subset_polygons` object:"
   ]
  },
  {
   "cell_type": "code",
   "execution_count": null,
   "metadata": {},
   "outputs": [],
   "source": [
    "se_asia_polygons = pd.concat([se_asia_subset_polygon, keep_polygons])"
   ]
  },
  {
   "cell_type": "markdown",
   "metadata": {},
   "source": [
    "As a sanity check, let's make sure that we didn't lose any glacier outline features during all of that:"
   ]
  },
  {
   "cell_type": "code",
   "execution_count": null,
   "metadata": {},
   "outputs": [],
   "source": [
    "len(se_asia_subset[\"rgi_id\"]) == len(se_asia_polygons)"
   ]
  },
  {
   "cell_type": "markdown",
   "metadata": {},
   "source": [
    "Great, we know that we have the same number of glaciers that we started with. \n",
    "\n",
    "Now, let's try visualizing the outlines with `explore()` again and seeing if the hover tools work:"
   ]
  },
  {
   "cell_type": "code",
   "execution_count": null,
   "metadata": {},
   "outputs": [],
   "source": [
    "se_asia_polygons.explore()"
   ]
  }
 ],
 "metadata": {
  "kernelspec": {
   "display_name": "geospatial_datacube_book_env",
   "language": "python",
   "name": "python3"
  },
  "language_info": {
   "codemirror_mode": {
    "name": "ipython",
    "version": 3
   },
   "file_extension": ".py",
   "mimetype": "text/x-python",
   "name": "python",
   "nbconvert_exporter": "python",
   "pygments_lexer": "ipython3",
   "version": "3.11.3"
  }
 },
 "nbformat": 4,
 "nbformat_minor": 2
}
