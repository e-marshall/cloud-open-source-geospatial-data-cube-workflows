{
 "cells": [
  {
   "cell_type": "markdown",
   "id": "0dcc0e8b-7afe-4e8a-a9b6-b817e5906815",
   "metadata": {},
   "source": [
    "# 2: Example of Sentinel-1 RTC time series analysis\n",
    "\n",
    "\n",
    "Now that we have done so much work to organize these two datasets and prepare them for analysis, let's explore the data with a scientific question in mind.\n",
    "\n",
    "In this example, we have data over a specific area of interest covering two glaciers and two proglacial lakes in the Central Himalaya near the India-Chinese border. As a glaciologist, I might be interested in questions related to the conditions of these surface -- is there a seasonal pattern to proglacial lake conditions? Do they freeze during the winter, and if so, at similar times? What is the surface of the glacier like at certain times of year? SAR backscatter imagery may not conclusively answer any of these questions in itself, but it can provide important insights about surface conditions and how they change over time that could be used to answer some of these questions.\n",
    "\n",
    "This notebook will walk through some initial steps of how you could use the data objects we've created to explore backscatter dynamics over time and space for the area of interest we have identified. \n",
    "\n",
    "## Learning objectives \n",
    "\n",
    "### Concepts\n",
    "- Subset larger dataset to spatial areas of interest\n",
    "- Computations and reductions\n",
    "- Data visualization\n",
    "  \n",
    "### Techniques\n",
    "- [GeoPandas](https://geopandas.org/en/stable/):  \n",
    "      - Handling projections  \n",
    "      - Spatial joins of multiple vector datasets   \n",
    "      - Interactive data visualization  \n",
    "- [Xarray](https://xarray.dev/) and [RioXarray](https://corteva.github.io/rioxarray/stable/):  \n",
    "      - Clip raster object by a vector object  \n",
    "      - Computations and reductions along different dimensions  \n",
    "      - Data visualization"
   ]
  },
  {
   "cell_type": "markdown",
   "id": "18c1d998-2855-4694-8158-cc0411451029",
   "metadata": {},
   "source": [
    "## Software and setup"
   ]
  },
  {
   "cell_type": "code",
   "execution_count": null,
   "id": "592dbcc6-39da-4a5e-b037-fb7d9533e073",
   "metadata": {
    "tags": [
     "hide-input",
     "hide-output"
    ]
   },
   "outputs": [],
   "source": [
    "%xmode minimal\n",
    "import geopandas as gpd\n",
    "import xarray as xr\n",
    "from shapely import geometry\n",
    "import matplotlib.pyplot as plt\n",
    "import numpy as np"
   ]
  },
  {
   "cell_type": "markdown",
   "id": "7760e768-b90f-4441-bbf5-e4ce43e195e8",
   "metadata": {},
   "source": [
    "### Utility functions"
   ]
  },
  {
   "cell_type": "code",
   "execution_count": 2,
   "id": "a9af6ba5-8f36-4cfb-91af-fda920ce8b05",
   "metadata": {},
   "outputs": [],
   "source": [
    "def get_bbox_single(input_xr, buffer=0):\n",
    "    \"\"\"Takes input xr object (from itslive data cube), plots a quick map of the footprint.\n",
    "    currently only working for granules in crs epsg 32645\"\"\"\n",
    "\n",
    "    xmin = input_xr.coords[\"x\"].data.min()\n",
    "    xmax = input_xr.coords[\"x\"].data.max()\n",
    "\n",
    "    ymin = input_xr.coords[\"y\"].data.min()\n",
    "    ymax = input_xr.coords[\"y\"].data.max()\n",
    "\n",
    "    pts_ls = [(xmin, ymin), (xmax, ymin), (xmax, ymax), (xmin, ymax), (xmin, ymin)]\n",
    "\n",
    "    crs = input_xr.rio.crs\n",
    "\n",
    "    polygon_geom = geometry.Polygon(pts_ls)\n",
    "    polygon = gpd.GeoDataFrame(index=[0], crs=crs, geometry=[polygon_geom])\n",
    "    polygon_prj = polygon\n",
    "    polygon = polygon_prj.to_crs(crs)\n",
    "\n",
    "    # add a buffer if needed\n",
    "    bounds = polygon.total_bounds\n",
    "    # bounds = [bounds[0]-500, bounds[2]+500, bounds[1]-500, bounds[3]+500]\n",
    "\n",
    "    bounds_xmin = bounds[0] - buffer\n",
    "    bounds_xmax = bounds[2] + buffer\n",
    "    bounds_ymin = bounds[1] - buffer\n",
    "    bounds_ymax = bounds[3] + buffer\n",
    "\n",
    "    bounds_ls = [\n",
    "        (bounds_xmin, bounds_ymin),\n",
    "        (bounds_xmax, bounds_ymin),\n",
    "        (bounds_xmax, bounds_ymax),\n",
    "        (bounds_xmin, bounds_ymax),\n",
    "        (bounds_xmin, bounds_ymin),\n",
    "    ]\n",
    "\n",
    "    bounds_geom = geometry.Polygon(bounds_ls)\n",
    "    bound_gdf = gpd.GeoDataFrame(index=[0], crs=crs, geometry=[bounds_geom])\n",
    "    bounds_prj = bound_gdf.to_crs(crs)\n",
    "\n",
    "    return bounds_prj"
   ]
  },
  {
   "cell_type": "code",
   "execution_count": 3,
   "id": "b362777d-9b75-4b23-96c0-ef381f713864",
   "metadata": {},
   "outputs": [],
   "source": [
    "def power_to_db(input_arr):\n",
    "    return 10 * np.log10(np.abs(input_arr))"
   ]
  },
  {
   "cell_type": "markdown",
   "id": "386f6b88-1e29-4c37-af56-d19d2ba2af3c",
   "metadata": {},
   "source": [
    "### Read in prepared RTC data\n",
    "\n",
    "- this example will use ASF dataset"
   ]
  },
  {
   "cell_type": "code",
   "execution_count": null,
   "id": "f4df6fa0-39dd-4db5-8557-78577c1853d3",
   "metadata": {},
   "outputs": [],
   "source": [
    "asf_cube = xr.open_dataset(\"../data/tutorial2/s1_asf_cube_updated.zarr\")"
   ]
  },
  {
   "cell_type": "code",
   "execution_count": null,
   "id": "72215571-9914-439f-a453-7473e8ae8c5f",
   "metadata": {},
   "outputs": [],
   "source": [
    "asf_cube"
   ]
  },
  {
   "cell_type": "code",
   "execution_count": 6,
   "id": "239ed72c-2a6c-4fc3-beff-a1f184a6de49",
   "metadata": {},
   "outputs": [],
   "source": [
    "asf_cube = asf_cube.where(asf_cube.vv != 0.0, np.nan, drop=False)"
   ]
  },
  {
   "cell_type": "markdown",
   "id": "0505b5da-101e-4594-9d60-db3728549f12",
   "metadata": {},
   "source": [
    "### Read in vector data \n",
    "\n",
    "- Manually-drawn outlines of proglacial lakes"
   ]
  },
  {
   "cell_type": "code",
   "execution_count": null,
   "id": "4d90b251-2795-4f50-af3d-94351d1f54da",
   "metadata": {},
   "outputs": [],
   "source": [
    "lakes = gpd.read_file(\n",
    "    \"https://github.com/e-marshall/sentinel1_rtc/raw/main/proglacial_lake_outline.geojson\"\n",
    ")\n",
    "lakes_prj = lakes.to_crs(\"EPSG:32645\")\n",
    "lakes_prj"
   ]
  },
  {
   "cell_type": "markdown",
   "id": "14bc12cd-ff0a-4949-82fc-832eba0bc8de",
   "metadata": {},
   "source": [
    "Glacier outlines from Randolph Glacier Inventory"
   ]
  },
  {
   "cell_type": "code",
   "execution_count": 8,
   "id": "bd0f97bd-d360-4e62-951a-b7b76a2395a2",
   "metadata": {},
   "outputs": [],
   "source": [
    "da_bbox = get_bbox_single(asf_cube)"
   ]
  },
  {
   "cell_type": "code",
   "execution_count": 9,
   "id": "ce7ad34c-d4aa-497f-b2e8-e15263f6443a",
   "metadata": {},
   "outputs": [],
   "source": [
    "rgi = gpd.read_parquet(\"../data/tutorial1/rgi7_region15_south_asia_east.parquet\")\n",
    "rgi.head(3)\n",
    "rgi_prj = rgi.to_crs(\"epsg:32645\")\n",
    "\n",
    "rgi_sub = gpd.sjoin(rgi_prj, da_bbox, how=\"inner\")"
   ]
  },
  {
   "cell_type": "code",
   "execution_count": null,
   "id": "b8bf3a73-61ed-4f77-900b-1c4edd5f71f3",
   "metadata": {},
   "outputs": [],
   "source": [
    "rgi_sub.explore()"
   ]
  },
  {
   "cell_type": "code",
   "execution_count": null,
   "id": "57d66478-06e5-49c9-b88c-3918cf368c7f",
   "metadata": {},
   "outputs": [],
   "source": [
    "rgi_sub"
   ]
  },
  {
   "cell_type": "code",
   "execution_count": 12,
   "id": "2769267e-9ed9-401f-8e0a-a5066a34f1c3",
   "metadata": {},
   "outputs": [],
   "source": [
    "rgi_2 = rgi_sub.loc[rgi_sub[\"glims_id\"].isin([\"G088279E27984N\", \"G088259E27982N\"])]"
   ]
  },
  {
   "cell_type": "code",
   "execution_count": null,
   "id": "25449e14-55b5-4c7d-a135-2197e177ed1b",
   "metadata": {},
   "outputs": [],
   "source": [
    "rgi_2"
   ]
  },
  {
   "cell_type": "markdown",
   "id": "a0363e26",
   "metadata": {},
   "source": [
    "## TODO\n",
    "handdrew the lake outllines off of rgi6, looks like rgi7 slightly longer, should update lake outlines\n"
   ]
  },
  {
   "cell_type": "code",
   "execution_count": null,
   "id": "69d8c744-8ce6-449c-ae5a-498564b4943d",
   "metadata": {},
   "outputs": [],
   "source": [
    "fig, ax = plt.subplots(figsize=(9, 8))\n",
    "\n",
    "power_to_db(asf_cube.vv.mean(dim=[\"acq_date\"])).plot(ax=ax, cmap=plt.cm.Greys_r)\n",
    "\n",
    "rgi_2.plot(edgecolor=\"r\", facecolor=\"none\", ax=ax)\n",
    "rgi_2.plot(edgecolor=\"r\", facecolor=\"none\", ax=ax)\n",
    "\n",
    "lakes_prj.plot(ax=ax, facecolor=\"none\", edgecolor=\"blue\")\n",
    "\n",
    "fig.suptitle(\"ASF RTC backscatter image, 30 Apr 2022\", fontsize=14);"
   ]
  },
  {
   "cell_type": "markdown",
   "id": "674b0d50-cdd9-4fe1-a758-322d8312fd15",
   "metadata": {},
   "source": [
    "## Clip to lake extent"
   ]
  },
  {
   "cell_type": "code",
   "execution_count": 15,
   "id": "a64bdf5e-f08c-4871-93e9-36fbb1e64edc",
   "metadata": {},
   "outputs": [],
   "source": [
    "lake1 = lakes_prj.loc[lakes_prj[\"id\"] == 1]\n",
    "lake2 = lakes_prj.loc[lakes_prj[\"id\"] == 2]"
   ]
  },
  {
   "cell_type": "code",
   "execution_count": 16,
   "id": "06d692a2-3689-4e45-a61c-c9076ee2ee3b",
   "metadata": {},
   "outputs": [],
   "source": [
    "lake1_asf = asf_cube.rio.clip(lake1.geometry, lake1.crs)\n",
    "lake2_asf = asf_cube.rio.clip(lake2.geometry, lake2.crs)"
   ]
  },
  {
   "cell_type": "code",
   "execution_count": null,
   "id": "b6e78a94-4245-47db-a37a-848b5d6c98e5",
   "metadata": {},
   "outputs": [],
   "source": [
    "lake1_asf"
   ]
  },
  {
   "cell_type": "code",
   "execution_count": null,
   "id": "ba409fc4-6afa-4d49-a5eb-6bc058193c56",
   "metadata": {},
   "outputs": [],
   "source": [
    "lakes_prj[\"color\"] = [\"r\", \"b\"]\n",
    "lakes_prj"
   ]
  },
  {
   "cell_type": "markdown",
   "id": "485670f2-f38b-4ad2-9789-e4b6bb1fdfb9",
   "metadata": {},
   "source": [
    "## Data visualization"
   ]
  },
  {
   "cell_type": "code",
   "execution_count": null,
   "id": "102674c9-413e-448b-ba1a-652933cd7df7",
   "metadata": {},
   "outputs": [],
   "source": [
    "from matplotlib.lines import Line2D\n",
    "\n",
    "fig, axs = plt.subplots(ncols=2, figsize=(18, 7))\n",
    "\n",
    "# scatter plot VV\n",
    "power_to_db(lake2_asf.vv.mean(dim=[\"x\", \"y\"])).plot(\n",
    "    ax=axs[0], color=\"blue\", marker=\"o\", linewidth=0, alpha=0.6\n",
    ")\n",
    "power_to_db(lake1_asf.vv.mean(dim=[\"x\", \"y\"])).plot(\n",
    "    ax=axs[0], color=\"red\", marker=\"o\", linewidth=0, alpha=0.6\n",
    ")\n",
    "# scatter plot VH\n",
    "power_to_db(lake2_asf.vh.mean(dim=[\"x\", \"y\"])).plot(\n",
    "    ax=axs[1], color=\"blue\", marker=\"o\", linewidth=0, alpha=0.6\n",
    ")\n",
    "power_to_db(lake1_asf.vh.mean(dim=[\"x\", \"y\"])).plot(\n",
    "    ax=axs[1], color=\"red\", marker=\"o\", linewidth=0, alpha=0.6\n",
    ")\n",
    "axs[0].set_title(\"VV backscatter over proglacial lakes 2021-2022\")\n",
    "axs[1].set_title(\"VH backscatter over proglacial lakes 2021-2022\")\n",
    "\n",
    "legend_elements = [\n",
    "    Line2D([0], [0], color=\"r\", lw=3, label=\"lake 1\"),\n",
    "    Line2D([0], [0], color=\"b\", lw=3, label=\"lake 2\"),\n",
    "];"
   ]
  },
  {
   "cell_type": "markdown",
   "id": "6f92d444-4c9c-41a1-aaaf-9bd3ee7e8bf0",
   "metadata": {},
   "source": [
    "What observations can we make about VV and VH variability in the above plots? What would we want to look at next to further explore those observations? "
   ]
  },
  {
   "cell_type": "code",
   "execution_count": null,
   "id": "ea146f7d-bf8f-4da2-bbda-5b2e2f7c20e9",
   "metadata": {},
   "outputs": [],
   "source": []
  }
 ],
 "metadata": {
  "kernelspec": {
   "display_name": "TEST_geospatial_datacube_book_env",
   "language": "python",
   "name": "python3"
  },
  "language_info": {
   "codemirror_mode": {
    "name": "ipython",
    "version": 3
   },
   "file_extension": ".py",
   "mimetype": "text/x-python",
   "name": "python",
   "nbconvert_exporter": "python",
   "pygments_lexer": "ipython3",
   "version": "3.11.3"
  }
 },
 "nbformat": 4,
 "nbformat_minor": 5
}
