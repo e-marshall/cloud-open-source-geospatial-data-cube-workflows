{
 "cells": [
  {
   "cell_type": "markdown",
   "id": "5a585e7f",
   "metadata": {
    "tags": []
   },
   "source": [
    "# 3.1 Accessing cloud-hosted ITS_LIVE data\n",
    "\n",
    "## Introduction\n",
    "\n",
    "This notebook demonstrates how to query and access cloud-hosted Inter-mission Time Series of Land Ice Velocity and Elevation ([ITS_LIVE](https://its-live.jpl.nasa.gov/#access)) data from Amazon Web Services (AWS) S3 buckets. These data are stored as [Zarr](https://zarr.readthedocs.io/en/stable/) data cubes, a cloud-optimized format for array data. They are read into memory as [Xarray](https://docs.xarray.dev/en/stable/) Datasets.\n",
    "\n",
    "{{break}}"
   ]
  },
  {
   "cell_type": "markdown",
   "id": "1af38af9",
   "metadata": {
    "tags": []
   },
   "source": [
    "::::{tab-set}   \n",
    ":::{tab-item} Outline\n",
    "\n",
    "(content:section_A)= \n",
    "**[A. Overview of ITS_LIVE data](#a-overview-of-its_live-data)**\n",
    "- 1) Data structure overview\n",
    "\n",
    "(content:Section_B)=\n",
    "**[B. Read ITS_LIVE data from AWS S3 using Xarray](#b-read-its_live-data-from-aws-s3-using-xarray)**\n",
    "- 1) Overview of ITS_LIVE data storage and catalog\n",
    "- 2) Read ITS_LIVE data from S3 storage into memory\n",
    "- 3) Check spatial footprint of data\n",
    "\n",
    "(content:Section_C)=\n",
    "**[C. Query ITS_LIVE catalog](#c-query-its_live-catalog)**\n",
    "\n",
    "- 1) Find ITS_LIVE granule for a point of interest\n",
    "- 2) Read + visualize spatial footprint of ITS_LIVE data\n",
    ":::\n",
    "\n",
    ":::{tab-item} Learning Goals\n",
    "#### Concepts\n",
    "- Understand how data is organized in AWS S3 buckets,\n",
    "- Query and access cloud-optimized dataset from cloud object storage,\n",
    "- Create a vector data object representing the footprint of a raster dataset,\n",
    "- Preliminary visualization of data extent,\n",
    "  \n",
    "#### Techniques\n",
    "- Use [Xarray](https://xarray.dev/) to open [Zarr](https://zarr.readthedocs.io/en/stable/) data cubes stored in [AWS S3 bucket](https://aws.amazon.com/s3/),\n",
    "- Interactive data visualization with [hvplot](https://hvplot.holoviz.org/),\n",
    "- Create [Geopandas](https://geopandas.org/en/stable/) `geodataframe` from Xarray `xr.Dataset` object,\n",
    ":::"
   ]
  },
  {
   "cell_type": "markdown",
   "id": "a2ad5a15",
   "metadata": {
    "tags": []
   },
   "source": [
    "Expand the next cell to see specific packages used in this notebook and relevant system and version information. "
   ]
  },
  {
   "cell_type": "markdown",
   "id": "bc380c8b",
   "metadata": {
    "tags": []
   },
   "source": [
    "{{break}}"
   ]
  },
  {
   "cell_type": "code",
   "execution_count": 3,
   "id": "169eebf3",
   "metadata": {
    "tags": [
     "hide-input"
    ]
   },
   "outputs": [
    {
     "name": "stdout",
     "output_type": "stream",
     "text": [
      "Exception reporting mode: Minimal\n"
     ]
    }
   ],
   "source": [
    "%xmode minimal\n",
    "import geopandas as gpd\n",
    "import hvplot.pandas\n",
    "import xarray as xr\n",
    "from shapely.geometry import Point, Polygon"
   ]
  },
  {
   "cell_type": "markdown",
   "id": "d73cf7d7",
   "metadata": {
    "tags": []
   },
   "source": [
    "## A. Overview of ITS_LIVE data\n",
    "\n",
    "Skipping ahead a few steps, let's take a look at an ITS_LIVE data cube so that we have some expectations about what we'll see in the data catalog and once we read a data cube into memory. \n",
    "\n",
    "Specifically, we want to understand an ITS_LIVE time series data cube in the context of the Xarray data model. If you're new to working with Xarray, the [Data Structures](https://docs.xarray.dev/en/latest/user-guide/data-structures.html) documentation is very useful for getting a hang of the different components that are the building blocks of `Xarray.Dataset` objects."
   ]
  },
  {
   "cell_type": "code",
   "execution_count": 4,
   "id": "829dc0c5",
   "metadata": {
    "tags": [
     "hide-input",
     "hide-output"
    ]
   },
   "outputs": [],
   "source": [
    "init_url = \"http://its-live-data.s3.amazonaws.com/datacubes/v2-updated-october2024/N60W130/ITS_LIVE_vel_EPSG3413_G0120_X-3250000_Y250000.zarr\"\n",
    "datacube = xr.open_dataset(init_url, engine=\"zarr\", decode_timedelta=True, chunks=\"auto\")"
   ]
  },
  {
   "cell_type": "code",
   "execution_count": 5,
   "id": "28de315a",
   "metadata": {
    "tags": []
   },
   "outputs": [
    {
     "data": {
      "text/plain": [
       "{'chunks': (100426,),\n",
       " 'preferred_chunks': {'mid_date': 100426},\n",
       " 'compressor': Blosc(cname='lz4', clevel=5, shuffle=SHUFFLE, blocksize=0),\n",
       " 'filters': None,\n",
       " 'dtype': dtype('<U2')}"
      ]
     },
     "execution_count": 5,
     "metadata": {},
     "output_type": "execute_result"
    }
   ],
   "source": [
    "datacube['satellite_img1'].encoding"
   ]
  },
  {
   "cell_type": "markdown",
   "id": "9cb514f7",
   "metadata": {
    "tags": []
   },
   "source": [
    "### 1) Data structure overview\n",
    "\n",
    "#### Dimensions\n",
    "- This object has 3 *dimensions*, `mid_date`, `x`, and `y`.\n",
    "- Each dimension has a corresponding coordinate variable of the same name. Think of these as \"axis ticks\" on a figure if you were to plot the data.\n",
    "\n",
    "#### Data Variables\n",
    "- Expanding the 'Data Variables' label, you can see that there are many (60!) variables.\n",
    "- Each variable exists along one or more dimension (eg. `(mid_date,x,y)`), has an associated data type (eg.`float32`), and has an underlying array that holds that variable's data. \n",
    "\n",
    "#### Attributes\n",
    "- Data is commonly associated with related \"metadata\" -- data that describes data. For example, the `floatingice` variable has an attribute `description : floating ice mask, 0 = non-floating-ice, 1 = floating-ice` that tells you how to interpret its values. All array-based Xarray objects (data variables, coordinate variables, DataArrays and Datasets) can have attributes attached to them."
   ]
  },
  {
   "cell_type": "code",
   "execution_count": 6,
   "id": "c92e16cc",
   "metadata": {
    "tags": []
   },
   "outputs": [
    {
     "data": {
      "text/html": [
       "<div><svg style=\"position: absolute; width: 0; height: 0; overflow: hidden\">\n",
       "<defs>\n",
       "<symbol id=\"icon-database\" viewBox=\"0 0 32 32\">\n",
       "<path d=\"M16 0c-8.837 0-16 2.239-16 5v4c0 2.761 7.163 5 16 5s16-2.239 16-5v-4c0-2.761-7.163-5-16-5z\"></path>\n",
       "<path d=\"M16 17c-8.837 0-16-2.239-16-5v6c0 2.761 7.163 5 16 5s16-2.239 16-5v-6c0 2.761-7.163 5-16 5z\"></path>\n",
       "<path d=\"M16 26c-8.837 0-16-2.239-16-5v6c0 2.761 7.163 5 16 5s16-2.239 16-5v-6c0 2.761-7.163 5-16 5z\"></path>\n",
       "</symbol>\n",
       "<symbol id=\"icon-file-text2\" viewBox=\"0 0 32 32\">\n",
       "<path d=\"M28.681 7.159c-0.694-0.947-1.662-2.053-2.724-3.116s-2.169-2.030-3.116-2.724c-1.612-1.182-2.393-1.319-2.841-1.319h-15.5c-1.378 0-2.5 1.121-2.5 2.5v27c0 1.378 1.122 2.5 2.5 2.5h23c1.378 0 2.5-1.122 2.5-2.5v-19.5c0-0.448-0.137-1.23-1.319-2.841zM24.543 5.457c0.959 0.959 1.712 1.825 2.268 2.543h-4.811v-4.811c0.718 0.556 1.584 1.309 2.543 2.268zM28 29.5c0 0.271-0.229 0.5-0.5 0.5h-23c-0.271 0-0.5-0.229-0.5-0.5v-27c0-0.271 0.229-0.5 0.5-0.5 0 0 15.499-0 15.5 0v7c0 0.552 0.448 1 1 1h7v19.5z\"></path>\n",
       "<path d=\"M23 26h-14c-0.552 0-1-0.448-1-1s0.448-1 1-1h14c0.552 0 1 0.448 1 1s-0.448 1-1 1z\"></path>\n",
       "<path d=\"M23 22h-14c-0.552 0-1-0.448-1-1s0.448-1 1-1h14c0.552 0 1 0.448 1 1s-0.448 1-1 1z\"></path>\n",
       "<path d=\"M23 18h-14c-0.552 0-1-0.448-1-1s0.448-1 1-1h14c0.552 0 1 0.448 1 1s-0.448 1-1 1z\"></path>\n",
       "</symbol>\n",
       "</defs>\n",
       "</svg>\n",
       "<style>/* CSS stylesheet for displaying xarray objects in jupyterlab.\n",
       " *\n",
       " */\n",
       "\n",
       ":root {\n",
       "  --xr-font-color0: var(--jp-content-font-color0, rgba(0, 0, 0, 1));\n",
       "  --xr-font-color2: var(--jp-content-font-color2, rgba(0, 0, 0, 0.54));\n",
       "  --xr-font-color3: var(--jp-content-font-color3, rgba(0, 0, 0, 0.38));\n",
       "  --xr-border-color: var(--jp-border-color2, #e0e0e0);\n",
       "  --xr-disabled-color: var(--jp-layout-color3, #bdbdbd);\n",
       "  --xr-background-color: var(--jp-layout-color0, white);\n",
       "  --xr-background-color-row-even: var(--jp-layout-color1, white);\n",
       "  --xr-background-color-row-odd: var(--jp-layout-color2, #eeeeee);\n",
       "}\n",
       "\n",
       "html[theme=dark],\n",
       "html[data-theme=dark],\n",
       "body[data-theme=dark],\n",
       "body.vscode-dark {\n",
       "  --xr-font-color0: rgba(255, 255, 255, 1);\n",
       "  --xr-font-color2: rgba(255, 255, 255, 0.54);\n",
       "  --xr-font-color3: rgba(255, 255, 255, 0.38);\n",
       "  --xr-border-color: #1F1F1F;\n",
       "  --xr-disabled-color: #515151;\n",
       "  --xr-background-color: #111111;\n",
       "  --xr-background-color-row-even: #111111;\n",
       "  --xr-background-color-row-odd: #313131;\n",
       "}\n",
       "\n",
       ".xr-wrap {\n",
       "  display: block !important;\n",
       "  min-width: 300px;\n",
       "  max-width: 700px;\n",
       "}\n",
       "\n",
       ".xr-text-repr-fallback {\n",
       "  /* fallback to plain text repr when CSS is not injected (untrusted notebook) */\n",
       "  display: none;\n",
       "}\n",
       "\n",
       ".xr-header {\n",
       "  padding-top: 6px;\n",
       "  padding-bottom: 6px;\n",
       "  margin-bottom: 4px;\n",
       "  border-bottom: solid 1px var(--xr-border-color);\n",
       "}\n",
       "\n",
       ".xr-header > div,\n",
       ".xr-header > ul {\n",
       "  display: inline;\n",
       "  margin-top: 0;\n",
       "  margin-bottom: 0;\n",
       "}\n",
       "\n",
       ".xr-obj-type,\n",
       ".xr-array-name {\n",
       "  margin-left: 2px;\n",
       "  margin-right: 10px;\n",
       "}\n",
       "\n",
       ".xr-obj-type {\n",
       "  color: var(--xr-font-color2);\n",
       "}\n",
       "\n",
       ".xr-sections {\n",
       "  padding-left: 0 !important;\n",
       "  display: grid;\n",
       "  grid-template-columns: 150px auto auto 1fr 0 20px 0 20px;\n",
       "}\n",
       "\n",
       ".xr-section-item {\n",
       "  display: contents;\n",
       "}\n",
       "\n",
       ".xr-section-item input {\n",
       "  display: inline-block;\n",
       "  opacity: 0;\n",
       "}\n",
       "\n",
       ".xr-section-item input + label {\n",
       "  color: var(--xr-disabled-color);\n",
       "}\n",
       "\n",
       ".xr-section-item input:enabled + label {\n",
       "  cursor: pointer;\n",
       "  color: var(--xr-font-color2);\n",
       "}\n",
       "\n",
       ".xr-section-item input:focus + label {\n",
       "  border: 2px solid var(--xr-font-color0);\n",
       "}\n",
       "\n",
       ".xr-section-item input:enabled + label:hover {\n",
       "  color: var(--xr-font-color0);\n",
       "}\n",
       "\n",
       ".xr-section-summary {\n",
       "  grid-column: 1;\n",
       "  color: var(--xr-font-color2);\n",
       "  font-weight: 500;\n",
       "}\n",
       "\n",
       ".xr-section-summary > span {\n",
       "  display: inline-block;\n",
       "  padding-left: 0.5em;\n",
       "}\n",
       "\n",
       ".xr-section-summary-in:disabled + label {\n",
       "  color: var(--xr-font-color2);\n",
       "}\n",
       "\n",
       ".xr-section-summary-in + label:before {\n",
       "  display: inline-block;\n",
       "  content: '►';\n",
       "  font-size: 11px;\n",
       "  width: 15px;\n",
       "  text-align: center;\n",
       "}\n",
       "\n",
       ".xr-section-summary-in:disabled + label:before {\n",
       "  color: var(--xr-disabled-color);\n",
       "}\n",
       "\n",
       ".xr-section-summary-in:checked + label:before {\n",
       "  content: '▼';\n",
       "}\n",
       "\n",
       ".xr-section-summary-in:checked + label > span {\n",
       "  display: none;\n",
       "}\n",
       "\n",
       ".xr-section-summary,\n",
       ".xr-section-inline-details {\n",
       "  padding-top: 4px;\n",
       "  padding-bottom: 4px;\n",
       "}\n",
       "\n",
       ".xr-section-inline-details {\n",
       "  grid-column: 2 / -1;\n",
       "}\n",
       "\n",
       ".xr-section-details {\n",
       "  display: none;\n",
       "  grid-column: 1 / -1;\n",
       "  margin-bottom: 5px;\n",
       "}\n",
       "\n",
       ".xr-section-summary-in:checked ~ .xr-section-details {\n",
       "  display: contents;\n",
       "}\n",
       "\n",
       ".xr-array-wrap {\n",
       "  grid-column: 1 / -1;\n",
       "  display: grid;\n",
       "  grid-template-columns: 20px auto;\n",
       "}\n",
       "\n",
       ".xr-array-wrap > label {\n",
       "  grid-column: 1;\n",
       "  vertical-align: top;\n",
       "}\n",
       "\n",
       ".xr-preview {\n",
       "  color: var(--xr-font-color3);\n",
       "}\n",
       "\n",
       ".xr-array-preview,\n",
       ".xr-array-data {\n",
       "  padding: 0 5px !important;\n",
       "  grid-column: 2;\n",
       "}\n",
       "\n",
       ".xr-array-data,\n",
       ".xr-array-in:checked ~ .xr-array-preview {\n",
       "  display: none;\n",
       "}\n",
       "\n",
       ".xr-array-in:checked ~ .xr-array-data,\n",
       ".xr-array-preview {\n",
       "  display: inline-block;\n",
       "}\n",
       "\n",
       ".xr-dim-list {\n",
       "  display: inline-block !important;\n",
       "  list-style: none;\n",
       "  padding: 0 !important;\n",
       "  margin: 0;\n",
       "}\n",
       "\n",
       ".xr-dim-list li {\n",
       "  display: inline-block;\n",
       "  padding: 0;\n",
       "  margin: 0;\n",
       "}\n",
       "\n",
       ".xr-dim-list:before {\n",
       "  content: '(';\n",
       "}\n",
       "\n",
       ".xr-dim-list:after {\n",
       "  content: ')';\n",
       "}\n",
       "\n",
       ".xr-dim-list li:not(:last-child):after {\n",
       "  content: ',';\n",
       "  padding-right: 5px;\n",
       "}\n",
       "\n",
       ".xr-has-index {\n",
       "  font-weight: bold;\n",
       "}\n",
       "\n",
       ".xr-var-list,\n",
       ".xr-var-item {\n",
       "  display: contents;\n",
       "}\n",
       "\n",
       ".xr-var-item > div,\n",
       ".xr-var-item label,\n",
       ".xr-var-item > .xr-var-name span {\n",
       "  background-color: var(--xr-background-color-row-even);\n",
       "  margin-bottom: 0;\n",
       "}\n",
       "\n",
       ".xr-var-item > .xr-var-name:hover span {\n",
       "  padding-right: 5px;\n",
       "}\n",
       "\n",
       ".xr-var-list > li:nth-child(odd) > div,\n",
       ".xr-var-list > li:nth-child(odd) > label,\n",
       ".xr-var-list > li:nth-child(odd) > .xr-var-name span {\n",
       "  background-color: var(--xr-background-color-row-odd);\n",
       "}\n",
       "\n",
       ".xr-var-name {\n",
       "  grid-column: 1;\n",
       "}\n",
       "\n",
       ".xr-var-dims {\n",
       "  grid-column: 2;\n",
       "}\n",
       "\n",
       ".xr-var-dtype {\n",
       "  grid-column: 3;\n",
       "  text-align: right;\n",
       "  color: var(--xr-font-color2);\n",
       "}\n",
       "\n",
       ".xr-var-preview {\n",
       "  grid-column: 4;\n",
       "}\n",
       "\n",
       ".xr-index-preview {\n",
       "  grid-column: 2 / 5;\n",
       "  color: var(--xr-font-color2);\n",
       "}\n",
       "\n",
       ".xr-var-name,\n",
       ".xr-var-dims,\n",
       ".xr-var-dtype,\n",
       ".xr-preview,\n",
       ".xr-attrs dt {\n",
       "  white-space: nowrap;\n",
       "  overflow: hidden;\n",
       "  text-overflow: ellipsis;\n",
       "  padding-right: 10px;\n",
       "}\n",
       "\n",
       ".xr-var-name:hover,\n",
       ".xr-var-dims:hover,\n",
       ".xr-var-dtype:hover,\n",
       ".xr-attrs dt:hover {\n",
       "  overflow: visible;\n",
       "  width: auto;\n",
       "  z-index: 1;\n",
       "}\n",
       "\n",
       ".xr-var-attrs,\n",
       ".xr-var-data,\n",
       ".xr-index-data {\n",
       "  display: none;\n",
       "  background-color: var(--xr-background-color) !important;\n",
       "  padding-bottom: 5px !important;\n",
       "}\n",
       "\n",
       ".xr-var-attrs-in:checked ~ .xr-var-attrs,\n",
       ".xr-var-data-in:checked ~ .xr-var-data,\n",
       ".xr-index-data-in:checked ~ .xr-index-data {\n",
       "  display: block;\n",
       "}\n",
       "\n",
       ".xr-var-data > table {\n",
       "  float: right;\n",
       "}\n",
       "\n",
       ".xr-var-name span,\n",
       ".xr-var-data,\n",
       ".xr-index-name div,\n",
       ".xr-index-data,\n",
       ".xr-attrs {\n",
       "  padding-left: 25px !important;\n",
       "}\n",
       "\n",
       ".xr-attrs,\n",
       ".xr-var-attrs,\n",
       ".xr-var-data,\n",
       ".xr-index-data {\n",
       "  grid-column: 1 / -1;\n",
       "}\n",
       "\n",
       "dl.xr-attrs {\n",
       "  padding: 0;\n",
       "  margin: 0;\n",
       "  display: grid;\n",
       "  grid-template-columns: 125px auto;\n",
       "}\n",
       "\n",
       ".xr-attrs dt,\n",
       ".xr-attrs dd {\n",
       "  padding: 0;\n",
       "  margin: 0;\n",
       "  float: left;\n",
       "  padding-right: 10px;\n",
       "  width: auto;\n",
       "}\n",
       "\n",
       ".xr-attrs dt {\n",
       "  font-weight: normal;\n",
       "  grid-column: 1;\n",
       "}\n",
       "\n",
       ".xr-attrs dt:hover span {\n",
       "  display: inline-block;\n",
       "  background: var(--xr-background-color);\n",
       "  padding-right: 10px;\n",
       "}\n",
       "\n",
       ".xr-attrs dd {\n",
       "  grid-column: 2;\n",
       "  white-space: pre-wrap;\n",
       "  word-break: break-all;\n",
       "}\n",
       "\n",
       ".xr-icon-database,\n",
       ".xr-icon-file-text2,\n",
       ".xr-no-icon {\n",
       "  display: inline-block;\n",
       "  vertical-align: middle;\n",
       "  width: 1em;\n",
       "  height: 1.5em !important;\n",
       "  stroke-width: 0;\n",
       "  stroke: currentColor;\n",
       "  fill: currentColor;\n",
       "}\n",
       "</style><pre class='xr-text-repr-fallback'>&lt;xarray.DataArray &#x27;floatingice&#x27; (y: 834, x: 834)&gt; Size: 3MB\n",
       "dask.array&lt;open_dataset-floatingice, shape=(834, 834), dtype=float32, chunksize=(834, 834), chunktype=numpy.ndarray&gt;\n",
       "Coordinates:\n",
       "  * x        (x) float64 7kB -3.3e+06 -3.3e+06 -3.3e+06 ... -3.2e+06 -3.2e+06\n",
       "  * y        (y) float64 7kB 2.999e+05 2.998e+05 2.997e+05 ... 2.001e+05 2e+05\n",
       "Attributes:\n",
       "    description:    floating ice mask, 0 = non-floating-ice, 1 = floating-ice\n",
       "    flag_meanings:  non-ice ice\n",
       "    flag_values:    [0, 1]\n",
       "    grid_mapping:   mapping\n",
       "    standard_name:  floating ice mask\n",
       "    url:            https://its-live-data.s3.amazonaws.com/autorift_parameter...</pre><div class='xr-wrap' style='display:none'><div class='xr-header'><div class='xr-obj-type'>xarray.DataArray</div><div class='xr-array-name'>'floatingice'</div><ul class='xr-dim-list'><li><span class='xr-has-index'>y</span>: 834</li><li><span class='xr-has-index'>x</span>: 834</li></ul></div><ul class='xr-sections'><li class='xr-section-item'><div class='xr-array-wrap'><input id='section-d0db5225-77ea-42b7-88da-06e29623df63' class='xr-array-in' type='checkbox' checked><label for='section-d0db5225-77ea-42b7-88da-06e29623df63' title='Show/hide data repr'><svg class='icon xr-icon-database'><use xlink:href='#icon-database'></use></svg></label><div class='xr-array-preview xr-preview'><span>dask.array&lt;chunksize=(834, 834), meta=np.ndarray&gt;</span></div><div class='xr-array-data'><table>\n",
       "    <tr>\n",
       "        <td>\n",
       "            <table style=\"border-collapse: collapse;\">\n",
       "                <thead>\n",
       "                    <tr>\n",
       "                        <td> </td>\n",
       "                        <th> Array </th>\n",
       "                        <th> Chunk </th>\n",
       "                    </tr>\n",
       "                </thead>\n",
       "                <tbody>\n",
       "                    \n",
       "                    <tr>\n",
       "                        <th> Bytes </th>\n",
       "                        <td> 2.65 MiB </td>\n",
       "                        <td> 2.65 MiB </td>\n",
       "                    </tr>\n",
       "                    \n",
       "                    <tr>\n",
       "                        <th> Shape </th>\n",
       "                        <td> (834, 834) </td>\n",
       "                        <td> (834, 834) </td>\n",
       "                    </tr>\n",
       "                    <tr>\n",
       "                        <th> Dask graph </th>\n",
       "                        <td colspan=\"2\"> 1 chunks in 2 graph layers </td>\n",
       "                    </tr>\n",
       "                    <tr>\n",
       "                        <th> Data type </th>\n",
       "                        <td colspan=\"2\"> float32 numpy.ndarray </td>\n",
       "                    </tr>\n",
       "                </tbody>\n",
       "            </table>\n",
       "        </td>\n",
       "        <td>\n",
       "        <svg width=\"170\" height=\"170\" style=\"stroke:rgb(0,0,0);stroke-width:1\" >\n",
       "\n",
       "  <!-- Horizontal lines -->\n",
       "  <line x1=\"0\" y1=\"0\" x2=\"120\" y2=\"0\" style=\"stroke-width:2\" />\n",
       "  <line x1=\"0\" y1=\"120\" x2=\"120\" y2=\"120\" style=\"stroke-width:2\" />\n",
       "\n",
       "  <!-- Vertical lines -->\n",
       "  <line x1=\"0\" y1=\"0\" x2=\"0\" y2=\"120\" style=\"stroke-width:2\" />\n",
       "  <line x1=\"120\" y1=\"0\" x2=\"120\" y2=\"120\" style=\"stroke-width:2\" />\n",
       "\n",
       "  <!-- Colored Rectangle -->\n",
       "  <polygon points=\"0.0,0.0 120.0,0.0 120.0,120.0 0.0,120.0\" style=\"fill:#ECB172A0;stroke-width:0\"/>\n",
       "\n",
       "  <!-- Text -->\n",
       "  <text x=\"60.000000\" y=\"140.000000\" font-size=\"1.0rem\" font-weight=\"100\" text-anchor=\"middle\" >834</text>\n",
       "  <text x=\"140.000000\" y=\"60.000000\" font-size=\"1.0rem\" font-weight=\"100\" text-anchor=\"middle\" transform=\"rotate(-90,140.000000,60.000000)\">834</text>\n",
       "</svg>\n",
       "        </td>\n",
       "    </tr>\n",
       "</table></div></div></li><li class='xr-section-item'><input id='section-375028c5-bc02-42c1-b89f-ccd37e3136d1' class='xr-section-summary-in' type='checkbox'  checked><label for='section-375028c5-bc02-42c1-b89f-ccd37e3136d1' class='xr-section-summary' >Coordinates: <span>(2)</span></label><div class='xr-section-inline-details'></div><div class='xr-section-details'><ul class='xr-var-list'><li class='xr-var-item'><div class='xr-var-name'><span class='xr-has-index'>x</span></div><div class='xr-var-dims'>(x)</div><div class='xr-var-dtype'>float64</div><div class='xr-var-preview xr-preview'>-3.3e+06 -3.3e+06 ... -3.2e+06</div><input id='attrs-0b18f9a0-7dff-46d4-a5b4-a36a8969ab16' class='xr-var-attrs-in' type='checkbox' ><label for='attrs-0b18f9a0-7dff-46d4-a5b4-a36a8969ab16' title='Show/Hide attributes'><svg class='icon xr-icon-file-text2'><use xlink:href='#icon-file-text2'></use></svg></label><input id='data-0dd2bae9-ffb1-4093-ae2e-e6fbddabdf96' class='xr-var-data-in' type='checkbox'><label for='data-0dd2bae9-ffb1-4093-ae2e-e6fbddabdf96' title='Show/Hide data repr'><svg class='icon xr-icon-database'><use xlink:href='#icon-database'></use></svg></label><div class='xr-var-attrs'><dl class='xr-attrs'><dt><span>description :</span></dt><dd>x coordinate of projection</dd><dt><span>standard_name :</span></dt><dd>projection_x_coordinate</dd></dl></div><div class='xr-var-data'><pre>array([-3299947.5, -3299827.5, -3299707.5, ..., -3200227.5, -3200107.5,\n",
       "       -3199987.5])</pre></div></li><li class='xr-var-item'><div class='xr-var-name'><span class='xr-has-index'>y</span></div><div class='xr-var-dims'>(y)</div><div class='xr-var-dtype'>float64</div><div class='xr-var-preview xr-preview'>2.999e+05 2.998e+05 ... 2e+05</div><input id='attrs-9fcd30e4-1fde-44b8-8b51-a8c4e85e85b1' class='xr-var-attrs-in' type='checkbox' ><label for='attrs-9fcd30e4-1fde-44b8-8b51-a8c4e85e85b1' title='Show/Hide attributes'><svg class='icon xr-icon-file-text2'><use xlink:href='#icon-file-text2'></use></svg></label><input id='data-a7d43765-366c-4a58-af30-6fea819df534' class='xr-var-data-in' type='checkbox'><label for='data-a7d43765-366c-4a58-af30-6fea819df534' title='Show/Hide data repr'><svg class='icon xr-icon-database'><use xlink:href='#icon-database'></use></svg></label><div class='xr-var-attrs'><dl class='xr-attrs'><dt><span>description :</span></dt><dd>y coordinate of projection</dd><dt><span>standard_name :</span></dt><dd>projection_y_coordinate</dd></dl></div><div class='xr-var-data'><pre>array([299947.5, 299827.5, 299707.5, ..., 200227.5, 200107.5, 199987.5])</pre></div></li></ul></div></li><li class='xr-section-item'><input id='section-2867515d-e984-4275-8fca-3cce92f7482c' class='xr-section-summary-in' type='checkbox'  ><label for='section-2867515d-e984-4275-8fca-3cce92f7482c' class='xr-section-summary' >Indexes: <span>(2)</span></label><div class='xr-section-inline-details'></div><div class='xr-section-details'><ul class='xr-var-list'><li class='xr-var-item'><div class='xr-index-name'><div>x</div></div><div class='xr-index-preview'>PandasIndex</div><div></div><input id='index-e83f9dcc-8135-45ea-86d5-21b276f2c4ca' class='xr-index-data-in' type='checkbox'/><label for='index-e83f9dcc-8135-45ea-86d5-21b276f2c4ca' title='Show/Hide index repr'><svg class='icon xr-icon-database'><use xlink:href='#icon-database'></use></svg></label><div class='xr-index-data'><pre>PandasIndex(Index([-3299947.5, -3299827.5, -3299707.5, -3299587.5, -3299467.5, -3299347.5,\n",
       "       -3299227.5, -3299107.5, -3298987.5, -3298867.5,\n",
       "       ...\n",
       "       -3201067.5, -3200947.5, -3200827.5, -3200707.5, -3200587.5, -3200467.5,\n",
       "       -3200347.5, -3200227.5, -3200107.5, -3199987.5],\n",
       "      dtype=&#x27;float64&#x27;, name=&#x27;x&#x27;, length=834))</pre></div></li><li class='xr-var-item'><div class='xr-index-name'><div>y</div></div><div class='xr-index-preview'>PandasIndex</div><div></div><input id='index-9e88fd25-5ace-42c6-8e1c-0d77b4692deb' class='xr-index-data-in' type='checkbox'/><label for='index-9e88fd25-5ace-42c6-8e1c-0d77b4692deb' title='Show/Hide index repr'><svg class='icon xr-icon-database'><use xlink:href='#icon-database'></use></svg></label><div class='xr-index-data'><pre>PandasIndex(Index([299947.5, 299827.5, 299707.5, 299587.5, 299467.5, 299347.5, 299227.5,\n",
       "       299107.5, 298987.5, 298867.5,\n",
       "       ...\n",
       "       201067.5, 200947.5, 200827.5, 200707.5, 200587.5, 200467.5, 200347.5,\n",
       "       200227.5, 200107.5, 199987.5],\n",
       "      dtype=&#x27;float64&#x27;, name=&#x27;y&#x27;, length=834))</pre></div></li></ul></div></li><li class='xr-section-item'><input id='section-385f8f57-ec45-4cf0-aabf-c33522d94ec0' class='xr-section-summary-in' type='checkbox'  checked><label for='section-385f8f57-ec45-4cf0-aabf-c33522d94ec0' class='xr-section-summary' >Attributes: <span>(6)</span></label><div class='xr-section-inline-details'></div><div class='xr-section-details'><dl class='xr-attrs'><dt><span>description :</span></dt><dd>floating ice mask, 0 = non-floating-ice, 1 = floating-ice</dd><dt><span>flag_meanings :</span></dt><dd>non-ice ice</dd><dt><span>flag_values :</span></dt><dd>[0, 1]</dd><dt><span>grid_mapping :</span></dt><dd>mapping</dd><dt><span>standard_name :</span></dt><dd>floating ice mask</dd><dt><span>url :</span></dt><dd>https://its-live-data.s3.amazonaws.com/autorift_parameters/v001/NPS_0120m_floatingice.tif</dd></dl></div></li></ul></div></div>"
      ],
      "text/plain": [
       "<xarray.DataArray 'floatingice' (y: 834, x: 834)> Size: 3MB\n",
       "dask.array<open_dataset-floatingice, shape=(834, 834), dtype=float32, chunksize=(834, 834), chunktype=numpy.ndarray>\n",
       "Coordinates:\n",
       "  * x        (x) float64 7kB -3.3e+06 -3.3e+06 -3.3e+06 ... -3.2e+06 -3.2e+06\n",
       "  * y        (y) float64 7kB 2.999e+05 2.998e+05 2.997e+05 ... 2.001e+05 2e+05\n",
       "Attributes:\n",
       "    description:    floating ice mask, 0 = non-floating-ice, 1 = floating-ice\n",
       "    flag_meanings:  non-ice ice\n",
       "    flag_values:    [0, 1]\n",
       "    grid_mapping:   mapping\n",
       "    standard_name:  floating ice mask\n",
       "    url:            https://its-live-data.s3.amazonaws.com/autorift_parameter..."
      ]
     },
     "execution_count": 6,
     "metadata": {},
     "output_type": "execute_result"
    }
   ],
   "source": [
    "datacube.floatingice"
   ]
  },
  {
   "cell_type": "markdown",
   "id": "e4f4f996",
   "metadata": {
    "tags": []
   },
   "source": [
    "#### Other Coordinate Variables\n",
    "\n",
    "Metadata can take the form of dimensional arrays too. For example, the `satellite_img1` and `satellite_img2` arrays record the satellite sources for the image pair used to construct the velocity data. This is important *metadata* about the observed velocity fields. Such variables can be set as \"non-dimension coordinate variables\" if desired, though we will not do so here. "
   ]
  },
  {
   "cell_type": "code",
   "execution_count": 7,
   "id": "50b5609f",
   "metadata": {
    "tags": []
   },
   "outputs": [
    {
     "data": {
      "text/html": [
       "<div><svg style=\"position: absolute; width: 0; height: 0; overflow: hidden\">\n",
       "<defs>\n",
       "<symbol id=\"icon-database\" viewBox=\"0 0 32 32\">\n",
       "<path d=\"M16 0c-8.837 0-16 2.239-16 5v4c0 2.761 7.163 5 16 5s16-2.239 16-5v-4c0-2.761-7.163-5-16-5z\"></path>\n",
       "<path d=\"M16 17c-8.837 0-16-2.239-16-5v6c0 2.761 7.163 5 16 5s16-2.239 16-5v-6c0 2.761-7.163 5-16 5z\"></path>\n",
       "<path d=\"M16 26c-8.837 0-16-2.239-16-5v6c0 2.761 7.163 5 16 5s16-2.239 16-5v-6c0 2.761-7.163 5-16 5z\"></path>\n",
       "</symbol>\n",
       "<symbol id=\"icon-file-text2\" viewBox=\"0 0 32 32\">\n",
       "<path d=\"M28.681 7.159c-0.694-0.947-1.662-2.053-2.724-3.116s-2.169-2.030-3.116-2.724c-1.612-1.182-2.393-1.319-2.841-1.319h-15.5c-1.378 0-2.5 1.121-2.5 2.5v27c0 1.378 1.122 2.5 2.5 2.5h23c1.378 0 2.5-1.122 2.5-2.5v-19.5c0-0.448-0.137-1.23-1.319-2.841zM24.543 5.457c0.959 0.959 1.712 1.825 2.268 2.543h-4.811v-4.811c0.718 0.556 1.584 1.309 2.543 2.268zM28 29.5c0 0.271-0.229 0.5-0.5 0.5h-23c-0.271 0-0.5-0.229-0.5-0.5v-27c0-0.271 0.229-0.5 0.5-0.5 0 0 15.499-0 15.5 0v7c0 0.552 0.448 1 1 1h7v19.5z\"></path>\n",
       "<path d=\"M23 26h-14c-0.552 0-1-0.448-1-1s0.448-1 1-1h14c0.552 0 1 0.448 1 1s-0.448 1-1 1z\"></path>\n",
       "<path d=\"M23 22h-14c-0.552 0-1-0.448-1-1s0.448-1 1-1h14c0.552 0 1 0.448 1 1s-0.448 1-1 1z\"></path>\n",
       "<path d=\"M23 18h-14c-0.552 0-1-0.448-1-1s0.448-1 1-1h14c0.552 0 1 0.448 1 1s-0.448 1-1 1z\"></path>\n",
       "</symbol>\n",
       "</defs>\n",
       "</svg>\n",
       "<style>/* CSS stylesheet for displaying xarray objects in jupyterlab.\n",
       " *\n",
       " */\n",
       "\n",
       ":root {\n",
       "  --xr-font-color0: var(--jp-content-font-color0, rgba(0, 0, 0, 1));\n",
       "  --xr-font-color2: var(--jp-content-font-color2, rgba(0, 0, 0, 0.54));\n",
       "  --xr-font-color3: var(--jp-content-font-color3, rgba(0, 0, 0, 0.38));\n",
       "  --xr-border-color: var(--jp-border-color2, #e0e0e0);\n",
       "  --xr-disabled-color: var(--jp-layout-color3, #bdbdbd);\n",
       "  --xr-background-color: var(--jp-layout-color0, white);\n",
       "  --xr-background-color-row-even: var(--jp-layout-color1, white);\n",
       "  --xr-background-color-row-odd: var(--jp-layout-color2, #eeeeee);\n",
       "}\n",
       "\n",
       "html[theme=dark],\n",
       "html[data-theme=dark],\n",
       "body[data-theme=dark],\n",
       "body.vscode-dark {\n",
       "  --xr-font-color0: rgba(255, 255, 255, 1);\n",
       "  --xr-font-color2: rgba(255, 255, 255, 0.54);\n",
       "  --xr-font-color3: rgba(255, 255, 255, 0.38);\n",
       "  --xr-border-color: #1F1F1F;\n",
       "  --xr-disabled-color: #515151;\n",
       "  --xr-background-color: #111111;\n",
       "  --xr-background-color-row-even: #111111;\n",
       "  --xr-background-color-row-odd: #313131;\n",
       "}\n",
       "\n",
       ".xr-wrap {\n",
       "  display: block !important;\n",
       "  min-width: 300px;\n",
       "  max-width: 700px;\n",
       "}\n",
       "\n",
       ".xr-text-repr-fallback {\n",
       "  /* fallback to plain text repr when CSS is not injected (untrusted notebook) */\n",
       "  display: none;\n",
       "}\n",
       "\n",
       ".xr-header {\n",
       "  padding-top: 6px;\n",
       "  padding-bottom: 6px;\n",
       "  margin-bottom: 4px;\n",
       "  border-bottom: solid 1px var(--xr-border-color);\n",
       "}\n",
       "\n",
       ".xr-header > div,\n",
       ".xr-header > ul {\n",
       "  display: inline;\n",
       "  margin-top: 0;\n",
       "  margin-bottom: 0;\n",
       "}\n",
       "\n",
       ".xr-obj-type,\n",
       ".xr-array-name {\n",
       "  margin-left: 2px;\n",
       "  margin-right: 10px;\n",
       "}\n",
       "\n",
       ".xr-obj-type {\n",
       "  color: var(--xr-font-color2);\n",
       "}\n",
       "\n",
       ".xr-sections {\n",
       "  padding-left: 0 !important;\n",
       "  display: grid;\n",
       "  grid-template-columns: 150px auto auto 1fr 0 20px 0 20px;\n",
       "}\n",
       "\n",
       ".xr-section-item {\n",
       "  display: contents;\n",
       "}\n",
       "\n",
       ".xr-section-item input {\n",
       "  display: inline-block;\n",
       "  opacity: 0;\n",
       "}\n",
       "\n",
       ".xr-section-item input + label {\n",
       "  color: var(--xr-disabled-color);\n",
       "}\n",
       "\n",
       ".xr-section-item input:enabled + label {\n",
       "  cursor: pointer;\n",
       "  color: var(--xr-font-color2);\n",
       "}\n",
       "\n",
       ".xr-section-item input:focus + label {\n",
       "  border: 2px solid var(--xr-font-color0);\n",
       "}\n",
       "\n",
       ".xr-section-item input:enabled + label:hover {\n",
       "  color: var(--xr-font-color0);\n",
       "}\n",
       "\n",
       ".xr-section-summary {\n",
       "  grid-column: 1;\n",
       "  color: var(--xr-font-color2);\n",
       "  font-weight: 500;\n",
       "}\n",
       "\n",
       ".xr-section-summary > span {\n",
       "  display: inline-block;\n",
       "  padding-left: 0.5em;\n",
       "}\n",
       "\n",
       ".xr-section-summary-in:disabled + label {\n",
       "  color: var(--xr-font-color2);\n",
       "}\n",
       "\n",
       ".xr-section-summary-in + label:before {\n",
       "  display: inline-block;\n",
       "  content: '►';\n",
       "  font-size: 11px;\n",
       "  width: 15px;\n",
       "  text-align: center;\n",
       "}\n",
       "\n",
       ".xr-section-summary-in:disabled + label:before {\n",
       "  color: var(--xr-disabled-color);\n",
       "}\n",
       "\n",
       ".xr-section-summary-in:checked + label:before {\n",
       "  content: '▼';\n",
       "}\n",
       "\n",
       ".xr-section-summary-in:checked + label > span {\n",
       "  display: none;\n",
       "}\n",
       "\n",
       ".xr-section-summary,\n",
       ".xr-section-inline-details {\n",
       "  padding-top: 4px;\n",
       "  padding-bottom: 4px;\n",
       "}\n",
       "\n",
       ".xr-section-inline-details {\n",
       "  grid-column: 2 / -1;\n",
       "}\n",
       "\n",
       ".xr-section-details {\n",
       "  display: none;\n",
       "  grid-column: 1 / -1;\n",
       "  margin-bottom: 5px;\n",
       "}\n",
       "\n",
       ".xr-section-summary-in:checked ~ .xr-section-details {\n",
       "  display: contents;\n",
       "}\n",
       "\n",
       ".xr-array-wrap {\n",
       "  grid-column: 1 / -1;\n",
       "  display: grid;\n",
       "  grid-template-columns: 20px auto;\n",
       "}\n",
       "\n",
       ".xr-array-wrap > label {\n",
       "  grid-column: 1;\n",
       "  vertical-align: top;\n",
       "}\n",
       "\n",
       ".xr-preview {\n",
       "  color: var(--xr-font-color3);\n",
       "}\n",
       "\n",
       ".xr-array-preview,\n",
       ".xr-array-data {\n",
       "  padding: 0 5px !important;\n",
       "  grid-column: 2;\n",
       "}\n",
       "\n",
       ".xr-array-data,\n",
       ".xr-array-in:checked ~ .xr-array-preview {\n",
       "  display: none;\n",
       "}\n",
       "\n",
       ".xr-array-in:checked ~ .xr-array-data,\n",
       ".xr-array-preview {\n",
       "  display: inline-block;\n",
       "}\n",
       "\n",
       ".xr-dim-list {\n",
       "  display: inline-block !important;\n",
       "  list-style: none;\n",
       "  padding: 0 !important;\n",
       "  margin: 0;\n",
       "}\n",
       "\n",
       ".xr-dim-list li {\n",
       "  display: inline-block;\n",
       "  padding: 0;\n",
       "  margin: 0;\n",
       "}\n",
       "\n",
       ".xr-dim-list:before {\n",
       "  content: '(';\n",
       "}\n",
       "\n",
       ".xr-dim-list:after {\n",
       "  content: ')';\n",
       "}\n",
       "\n",
       ".xr-dim-list li:not(:last-child):after {\n",
       "  content: ',';\n",
       "  padding-right: 5px;\n",
       "}\n",
       "\n",
       ".xr-has-index {\n",
       "  font-weight: bold;\n",
       "}\n",
       "\n",
       ".xr-var-list,\n",
       ".xr-var-item {\n",
       "  display: contents;\n",
       "}\n",
       "\n",
       ".xr-var-item > div,\n",
       ".xr-var-item label,\n",
       ".xr-var-item > .xr-var-name span {\n",
       "  background-color: var(--xr-background-color-row-even);\n",
       "  margin-bottom: 0;\n",
       "}\n",
       "\n",
       ".xr-var-item > .xr-var-name:hover span {\n",
       "  padding-right: 5px;\n",
       "}\n",
       "\n",
       ".xr-var-list > li:nth-child(odd) > div,\n",
       ".xr-var-list > li:nth-child(odd) > label,\n",
       ".xr-var-list > li:nth-child(odd) > .xr-var-name span {\n",
       "  background-color: var(--xr-background-color-row-odd);\n",
       "}\n",
       "\n",
       ".xr-var-name {\n",
       "  grid-column: 1;\n",
       "}\n",
       "\n",
       ".xr-var-dims {\n",
       "  grid-column: 2;\n",
       "}\n",
       "\n",
       ".xr-var-dtype {\n",
       "  grid-column: 3;\n",
       "  text-align: right;\n",
       "  color: var(--xr-font-color2);\n",
       "}\n",
       "\n",
       ".xr-var-preview {\n",
       "  grid-column: 4;\n",
       "}\n",
       "\n",
       ".xr-index-preview {\n",
       "  grid-column: 2 / 5;\n",
       "  color: var(--xr-font-color2);\n",
       "}\n",
       "\n",
       ".xr-var-name,\n",
       ".xr-var-dims,\n",
       ".xr-var-dtype,\n",
       ".xr-preview,\n",
       ".xr-attrs dt {\n",
       "  white-space: nowrap;\n",
       "  overflow: hidden;\n",
       "  text-overflow: ellipsis;\n",
       "  padding-right: 10px;\n",
       "}\n",
       "\n",
       ".xr-var-name:hover,\n",
       ".xr-var-dims:hover,\n",
       ".xr-var-dtype:hover,\n",
       ".xr-attrs dt:hover {\n",
       "  overflow: visible;\n",
       "  width: auto;\n",
       "  z-index: 1;\n",
       "}\n",
       "\n",
       ".xr-var-attrs,\n",
       ".xr-var-data,\n",
       ".xr-index-data {\n",
       "  display: none;\n",
       "  background-color: var(--xr-background-color) !important;\n",
       "  padding-bottom: 5px !important;\n",
       "}\n",
       "\n",
       ".xr-var-attrs-in:checked ~ .xr-var-attrs,\n",
       ".xr-var-data-in:checked ~ .xr-var-data,\n",
       ".xr-index-data-in:checked ~ .xr-index-data {\n",
       "  display: block;\n",
       "}\n",
       "\n",
       ".xr-var-data > table {\n",
       "  float: right;\n",
       "}\n",
       "\n",
       ".xr-var-name span,\n",
       ".xr-var-data,\n",
       ".xr-index-name div,\n",
       ".xr-index-data,\n",
       ".xr-attrs {\n",
       "  padding-left: 25px !important;\n",
       "}\n",
       "\n",
       ".xr-attrs,\n",
       ".xr-var-attrs,\n",
       ".xr-var-data,\n",
       ".xr-index-data {\n",
       "  grid-column: 1 / -1;\n",
       "}\n",
       "\n",
       "dl.xr-attrs {\n",
       "  padding: 0;\n",
       "  margin: 0;\n",
       "  display: grid;\n",
       "  grid-template-columns: 125px auto;\n",
       "}\n",
       "\n",
       ".xr-attrs dt,\n",
       ".xr-attrs dd {\n",
       "  padding: 0;\n",
       "  margin: 0;\n",
       "  float: left;\n",
       "  padding-right: 10px;\n",
       "  width: auto;\n",
       "}\n",
       "\n",
       ".xr-attrs dt {\n",
       "  font-weight: normal;\n",
       "  grid-column: 1;\n",
       "}\n",
       "\n",
       ".xr-attrs dt:hover span {\n",
       "  display: inline-block;\n",
       "  background: var(--xr-background-color);\n",
       "  padding-right: 10px;\n",
       "}\n",
       "\n",
       ".xr-attrs dd {\n",
       "  grid-column: 2;\n",
       "  white-space: pre-wrap;\n",
       "  word-break: break-all;\n",
       "}\n",
       "\n",
       ".xr-icon-database,\n",
       ".xr-icon-file-text2,\n",
       ".xr-no-icon {\n",
       "  display: inline-block;\n",
       "  vertical-align: middle;\n",
       "  width: 1em;\n",
       "  height: 1.5em !important;\n",
       "  stroke-width: 0;\n",
       "  stroke: currentColor;\n",
       "  fill: currentColor;\n",
       "}\n",
       "</style><pre class='xr-text-repr-fallback'>&lt;xarray.DataArray &#x27;satellite_img1&#x27; (mid_date: 138421)&gt; Size: 1MB\n",
       "dask.array&lt;open_dataset-satellite_img1, shape=(138421,), dtype=&lt;U2, chunksize=(138421,), chunktype=numpy.ndarray&gt;\n",
       "Coordinates:\n",
       "  * mid_date  (mid_date) datetime64[ns] 1MB 2020-03-16T08:40:55.190909952 ......\n",
       "Attributes:\n",
       "    description:    id of the satellite that acquired image 1\n",
       "    standard_name:  image1_satellite</pre><div class='xr-wrap' style='display:none'><div class='xr-header'><div class='xr-obj-type'>xarray.DataArray</div><div class='xr-array-name'>'satellite_img1'</div><ul class='xr-dim-list'><li><span class='xr-has-index'>mid_date</span>: 138421</li></ul></div><ul class='xr-sections'><li class='xr-section-item'><div class='xr-array-wrap'><input id='section-094c0765-5c44-4436-ab98-45dfe0602299' class='xr-array-in' type='checkbox' checked><label for='section-094c0765-5c44-4436-ab98-45dfe0602299' title='Show/hide data repr'><svg class='icon xr-icon-database'><use xlink:href='#icon-database'></use></svg></label><div class='xr-array-preview xr-preview'><span>dask.array&lt;chunksize=(138421,), meta=np.ndarray&gt;</span></div><div class='xr-array-data'><table>\n",
       "    <tr>\n",
       "        <td>\n",
       "            <table style=\"border-collapse: collapse;\">\n",
       "                <thead>\n",
       "                    <tr>\n",
       "                        <td> </td>\n",
       "                        <th> Array </th>\n",
       "                        <th> Chunk </th>\n",
       "                    </tr>\n",
       "                </thead>\n",
       "                <tbody>\n",
       "                    \n",
       "                    <tr>\n",
       "                        <th> Bytes </th>\n",
       "                        <td> 1.06 MiB </td>\n",
       "                        <td> 1.06 MiB </td>\n",
       "                    </tr>\n",
       "                    \n",
       "                    <tr>\n",
       "                        <th> Shape </th>\n",
       "                        <td> (138421,) </td>\n",
       "                        <td> (138421,) </td>\n",
       "                    </tr>\n",
       "                    <tr>\n",
       "                        <th> Dask graph </th>\n",
       "                        <td colspan=\"2\"> 1 chunks in 2 graph layers </td>\n",
       "                    </tr>\n",
       "                    <tr>\n",
       "                        <th> Data type </th>\n",
       "                        <td colspan=\"2\"> <U2 numpy.ndarray </td>\n",
       "                    </tr>\n",
       "                </tbody>\n",
       "            </table>\n",
       "        </td>\n",
       "        <td>\n",
       "        <svg width=\"170\" height=\"75\" style=\"stroke:rgb(0,0,0);stroke-width:1\" >\n",
       "\n",
       "  <!-- Horizontal lines -->\n",
       "  <line x1=\"0\" y1=\"0\" x2=\"120\" y2=\"0\" style=\"stroke-width:2\" />\n",
       "  <line x1=\"0\" y1=\"25\" x2=\"120\" y2=\"25\" style=\"stroke-width:2\" />\n",
       "\n",
       "  <!-- Vertical lines -->\n",
       "  <line x1=\"0\" y1=\"0\" x2=\"0\" y2=\"25\" style=\"stroke-width:2\" />\n",
       "  <line x1=\"120\" y1=\"0\" x2=\"120\" y2=\"25\" style=\"stroke-width:2\" />\n",
       "\n",
       "  <!-- Colored Rectangle -->\n",
       "  <polygon points=\"0.0,0.0 120.0,0.0 120.0,25.412616514582485 0.0,25.412616514582485\" style=\"fill:#ECB172A0;stroke-width:0\"/>\n",
       "\n",
       "  <!-- Text -->\n",
       "  <text x=\"60.000000\" y=\"45.412617\" font-size=\"1.0rem\" font-weight=\"100\" text-anchor=\"middle\" >138421</text>\n",
       "  <text x=\"140.000000\" y=\"12.706308\" font-size=\"1.0rem\" font-weight=\"100\" text-anchor=\"middle\" transform=\"rotate(0,140.000000,12.706308)\">1</text>\n",
       "</svg>\n",
       "        </td>\n",
       "    </tr>\n",
       "</table></div></div></li><li class='xr-section-item'><input id='section-c274644d-12be-465a-afc3-526933ba15d7' class='xr-section-summary-in' type='checkbox'  checked><label for='section-c274644d-12be-465a-afc3-526933ba15d7' class='xr-section-summary' >Coordinates: <span>(1)</span></label><div class='xr-section-inline-details'></div><div class='xr-section-details'><ul class='xr-var-list'><li class='xr-var-item'><div class='xr-var-name'><span class='xr-has-index'>mid_date</span></div><div class='xr-var-dims'>(mid_date)</div><div class='xr-var-dtype'>datetime64[ns]</div><div class='xr-var-preview xr-preview'>2020-03-16T08:40:55.190909952 .....</div><input id='attrs-8d5438c7-e73c-4f28-a094-eaf6cd1d43a5' class='xr-var-attrs-in' type='checkbox' ><label for='attrs-8d5438c7-e73c-4f28-a094-eaf6cd1d43a5' title='Show/Hide attributes'><svg class='icon xr-icon-file-text2'><use xlink:href='#icon-file-text2'></use></svg></label><input id='data-1752d81a-66b3-4d18-9c83-2ba3bd5e2858' class='xr-var-data-in' type='checkbox'><label for='data-1752d81a-66b3-4d18-9c83-2ba3bd5e2858' title='Show/Hide data repr'><svg class='icon xr-icon-database'><use xlink:href='#icon-database'></use></svg></label><div class='xr-var-attrs'><dl class='xr-attrs'><dt><span>description :</span></dt><dd>midpoint of image 1 and image 2 acquisition date and time with granule&#x27;s centroid longitude and latitude as microseconds</dd><dt><span>standard_name :</span></dt><dd>image_pair_center_date_with_time_separation</dd></dl></div><div class='xr-var-data'><pre>array([&#x27;2020-03-16T08:40:55.190909952&#x27;, &#x27;2018-11-07T08:40:25.180428032&#x27;,\n",
       "       &#x27;2015-05-06T03:03:14.440954112&#x27;, ..., &#x27;2023-10-19T20:39:29.230416896&#x27;,\n",
       "       &#x27;2023-11-11T20:36:08.849937920&#x27;, &#x27;2022-09-17T08:42:55.220417024&#x27;],\n",
       "      dtype=&#x27;datetime64[ns]&#x27;)</pre></div></li></ul></div></li><li class='xr-section-item'><input id='section-bd61719e-a889-480f-9a58-d14b301321e2' class='xr-section-summary-in' type='checkbox'  ><label for='section-bd61719e-a889-480f-9a58-d14b301321e2' class='xr-section-summary' >Indexes: <span>(1)</span></label><div class='xr-section-inline-details'></div><div class='xr-section-details'><ul class='xr-var-list'><li class='xr-var-item'><div class='xr-index-name'><div>mid_date</div></div><div class='xr-index-preview'>PandasIndex</div><div></div><input id='index-500bf8fe-d49c-4634-9e5d-46db756234cf' class='xr-index-data-in' type='checkbox'/><label for='index-500bf8fe-d49c-4634-9e5d-46db756234cf' title='Show/Hide index repr'><svg class='icon xr-icon-database'><use xlink:href='#icon-database'></use></svg></label><div class='xr-index-data'><pre>PandasIndex(DatetimeIndex([&#x27;2020-03-16 08:40:55.190909952&#x27;,\n",
       "               &#x27;2018-11-07 08:40:25.180428032&#x27;,\n",
       "               &#x27;2015-05-06 03:03:14.440954112&#x27;,\n",
       "               &#x27;2016-08-14 20:54:07.160510976&#x27;,\n",
       "                  &#x27;2002-03-14 20:25:04.966016&#x27;,\n",
       "               &#x27;1999-12-04 20:23:49.902206976&#x27;,\n",
       "               &#x27;2021-09-27 20:53:36.210203904&#x27;,\n",
       "               &#x27;2021-12-18 20:40:26.210610944&#x27;,\n",
       "               &#x27;2020-06-26 08:32:50.200314624&#x27;,\n",
       "               &#x27;2011-07-02 08:22:51.810615040&#x27;,\n",
       "               ...\n",
       "               &#x27;2023-03-18 20:41:44.220829952&#x27;,\n",
       "               &#x27;2023-09-14 20:42:16.230322944&#x27;,\n",
       "               &#x27;2023-07-06 20:45:19.221107968&#x27;,\n",
       "               &#x27;2024-01-15 08:40:25.230924032&#x27;,\n",
       "               &#x27;2023-10-23 20:30:38.377039872&#x27;,\n",
       "               &#x27;2024-03-05 08:43:30.240220928&#x27;,\n",
       "               &#x27;2023-08-30 08:33:30.230113792&#x27;,\n",
       "               &#x27;2023-10-19 20:39:29.230416896&#x27;,\n",
       "               &#x27;2023-11-11 20:36:08.849937920&#x27;,\n",
       "               &#x27;2022-09-17 08:42:55.220417024&#x27;],\n",
       "              dtype=&#x27;datetime64[ns]&#x27;, name=&#x27;mid_date&#x27;, length=138421, freq=None))</pre></div></li></ul></div></li><li class='xr-section-item'><input id='section-d02b273a-a8e9-480b-aa92-4bf355a7b2fc' class='xr-section-summary-in' type='checkbox'  checked><label for='section-d02b273a-a8e9-480b-aa92-4bf355a7b2fc' class='xr-section-summary' >Attributes: <span>(2)</span></label><div class='xr-section-inline-details'></div><div class='xr-section-details'><dl class='xr-attrs'><dt><span>description :</span></dt><dd>id of the satellite that acquired image 1</dd><dt><span>standard_name :</span></dt><dd>image1_satellite</dd></dl></div></li></ul></div></div>"
      ],
      "text/plain": [
       "<xarray.DataArray 'satellite_img1' (mid_date: 138421)> Size: 1MB\n",
       "dask.array<open_dataset-satellite_img1, shape=(138421,), dtype=<U2, chunksize=(138421,), chunktype=numpy.ndarray>\n",
       "Coordinates:\n",
       "  * mid_date  (mid_date) datetime64[ns] 1MB 2020-03-16T08:40:55.190909952 ......\n",
       "Attributes:\n",
       "    description:    id of the satellite that acquired image 1\n",
       "    standard_name:  image1_satellite"
      ]
     },
     "execution_count": 7,
     "metadata": {},
     "output_type": "execute_result"
    }
   ],
   "source": [
    "datacube.satellite_img1"
   ]
  },
  {
   "cell_type": "markdown",
   "id": "70ef2983",
   "metadata": {
    "tags": []
   },
   "source": [
    ":::{tip}\n",
    "If you haven't yet, review the {term}`Metadata naming` and {term}`Climate Forecast (CF) Metadata Conventions` sections of the [Relevant Concepts](../../background/6_relevant_concepts.md) page.\n",
    ":::"
   ]
  },
  {
   "cell_type": "markdown",
   "id": "82771806",
   "metadata": {
    "tags": []
   },
   "source": [
    "## B. Read ITS_LIVE data from AWS S3 using Xarray\n",
    "\n",
    "Now that we know a bit more about the ITS_LIVE dataset, we can start querying the catalog to access the data we're interested in."
   ]
  },
  {
   "cell_type": "markdown",
   "id": "2f46458b",
   "metadata": {
    "tags": []
   },
   "source": [
    "### 1) Overview of ITS_LIVE data storage and catalog"
   ]
  },
  {
   "cell_type": "markdown",
   "id": "b31e3f13",
   "metadata": {
    "tags": []
   },
   "source": [
    "The ITS_LIVE project details a number of data access options on their [website](https://its-live.jpl.nasa.gov/#access). Here, we will be accessing ITS_LIVE data in the form of [zarr](https://zarr.readthedocs.io/en/stable/) data cubes that are stored in [S3 buckets](https://registry.opendata.aws/its-live-data/) hosted by Amazon Web Services (AWS). There is a [AWS S3 explorer index](https://its-live-data.s3.amazonaws.com/index.html) that we will use to query the data catalog. There, you can browse the contents of the bucket in the AWS S3 Explorer. Click this [link](https://its-live-data.s3.amazonaws.com/datacubes/catalog_v02.json) to download the file.\n",
    "\n",
    ":::{tip}\n",
    "You can also use the ITS_LIVE API to access ITS_LIVE data cube urls corresponding to different search conditions as well as Python code provided on the ITS_LIVE [website](https://its-live.jpl.nasa.gov/#api). We go through the steps of looking at the catalog in order to get a better understanding of how S3 buckets are organized. \n",
    ":::\n",
    "\n",
    "To query the data stored in the bucket, we will download the `catalog_v02.json` that is located in the bucket linked above. \n",
    "\n",
    "#### Understanding the data\n",
    "\n",
    "The first step in working with a new dataset is understanding how it is organized. To query the data stored in the bucket, we will download the `catalog_v02.json` that is linked above. This catalog contains spatial information and properties of ITS_LIVE data cubes as well as the URL used to access each cube. Let's take a look at the entry for a single data cube and the information that it contains:\n",
    "\n",
    "```{image} ../imgs/screengrab_itslive_catalog_entry.png\n",
    ":center-align\n",
    "```\n",
    "\n",
    "The top portion of the picture shows the spatial extent of the data cube in lat/lon units. Below that, we have properties such as the [EPSG code of the coordinate reference system](https://en.wikipedia.org/wiki/EPSG_Geodetic_Parameter_Dataset), the spatial footprint in projected units, and the url of the zarr object. \n",
    "\n",
    "Let's take a look at the url more in-depth: \n",
    "```\n",
    "http://its-live-data.s3.amazonaws.com/datacubes/v2-updated-october2024/S40E170/ITS_LIVE_vel_EPSG32759_G0120_X450000_Y5250000.zarr\n",
    "```\n",
    "\n",
    "From this link we can see that we are looking at ITS_LIVE data located in an s3 bucket hosted by Amazon Web Services (AWS). We also see that we're looking in the version 2 data cube directory. The next bit gives us information about the global location of the cube (N40E080). The actual file name `ITS_LIVE_vel_EPSG32645_G0120_X250000_Y4750000.zarr` tells us that we are looking at ice velocity data (its_live also has elevation data), in the CRS associated with EPSG 32645 (this code indicates UTM zone 45N). X250000_Y4750000 tells us more about the spatial footprint of the datacube within the UTM zone. \n"
   ]
  },
  {
   "cell_type": "markdown",
   "id": "9bc1535a",
   "metadata": {
    "tags": []
   },
   "source": [
    "### 2) Read ITS_LIVE data from S3 storage into memory"
   ]
  },
  {
   "cell_type": "markdown",
   "id": "2613de52",
   "metadata": {
    "tags": []
   },
   "source": [
    "We've found the url associated with the tile we want to access, let's try to open the data cube using `Xarray.open_dataset()`:"
   ]
  },
  {
   "cell_type": "code",
   "execution_count": 8,
   "id": "e567cc3e",
   "metadata": {
    "tags": [
     "raises-exception",
     "output-scroll"
    ]
   },
   "outputs": [],
   "source": [
    "url = \"http://its-live-data.s3.amazonaws.com/datacubes/v2/N30E090/ITS_LIVE_vel_EPSG32646_G0120_X750000_Y3350000.zarr\""
   ]
  },
  {
   "cell_type": "markdown",
   "id": "50e3fc72",
   "metadata": {
    "tags": []
   },
   "source": [
    "In addition to passing `url` to `xr.open_dataset()`, we include `chunks='auto'`. This introduces [dask](https://www.dask.org/) into our workflow; `chunks='auto'` will choose chunk sizes that match the underlying data structure; this is often ideal, but sometimes you may need to specify different chunking schemes. You can read more about choosing good chunk sizes [here](https://blog.dask.org/2021/11/02/choosing-dask-chunk-sizes); subsequent notebooks in this tutorial will explore different approaches to dask chunking. "
   ]
  },
  {
   "cell_type": "code",
   "execution_count": 9,
   "id": "814eb1fe",
   "metadata": {
    "tags": []
   },
   "outputs": [
    {
     "name": "stderr",
     "output_type": "stream",
     "text": [
      "syntax error, unexpected WORD_WORD, expecting SCAN_ATTR or SCAN_DATASET or SCAN_ERROR\n",
      "context: <?xml^ version=\"1.0\" encoding=\"UTF-8\"?><Error><Code>PermanentRedirect</Code><Message>The bucket you are attempting to access must be addressed using the specified endpoint. Please send all future requests to this endpoint.</Message><Endpoint>its-live-data.s3-us-west-2.amazonaws.com</Endpoint><Bucket>its-live-data</Bucket><RequestId>N4K18PDJ5AXTVHG0</RequestId><HostId>T09JW3wysyNegZJIgK2n0olT8TKkjRaENRVqr5Qi7b4Nbe2HwA8PvFf+bPMaQizLkJmP5SYQqQs=</HostId></Error>\n"
     ]
    },
    {
     "ename": "OSError",
     "evalue": "[Errno -72] NetCDF: Malformed or inaccessible DAP2 DDS or DAP4 DMR response: 'http://its-live-data.s3.amazonaws.com/datacubes/v2/N30E090/ITS_LIVE_vel_EPSG32646_G0120_X750000_Y3350000.zarr'",
     "output_type": "error",
     "traceback": [
      "\u001b[0;31mKeyError\u001b[0m\u001b[0;31m:\u001b[0m [<class 'netCDF4._netCDF4.Dataset'>, ('http://its-live-data.s3.amazonaws.com/datacubes/v2/N30E090/ITS_LIVE_vel_EPSG32646_G0120_X750000_Y3350000.zarr',), 'r', (('clobber', True), ('diskless', False), ('format', 'NETCDF4'), ('persist', False)), 'cc06a9a0-695f-4d02-ba0e-1abb33053de0']\n",
      "\nDuring handling of the above exception, another exception occurred:\n",
      "\u001b[0;31mOSError\u001b[0m\u001b[0;31m:\u001b[0m [Errno -72] NetCDF: Malformed or inaccessible DAP2 DDS or DAP4 DMR response: 'http://its-live-data.s3.amazonaws.com/datacubes/v2/N30E090/ITS_LIVE_vel_EPSG32646_G0120_X750000_Y3350000.zarr'\n"
     ]
    }
   ],
   "source": [
    "dc = xr.open_dataset(url, decode_timedelta=True)"
   ]
  },
  {
   "cell_type": "markdown",
   "id": "6bb59153",
   "metadata": {
    "tags": []
   },
   "source": [
    "As you can see, this doesn’t quite work. When passing the url to `xr.open_dataset()`, if a backend isn’t specified, Xarray will expect a NetCDF file. Because we’re trying to open a Zarr file we need to add an additional argument to `xr.open_dataset()`, shown in the next code cell. You can find more information [here](https://docs.xarray.dev/en/stable/user-guide/io.html#cloud-storage-buckets). Another approach we could use is to read the data with the Zarr-specific method [`xr.open_zarr()`](https://docs.xarray.dev/en/stable/generated/xarray.open_zarr.html) instead of [`xr.open_dataset()`](https://docs.xarray.dev/en/stable/generated/xarray.open_dataset.html).\n",
    "\n",
    "We set `decode_coords=\"all\"` so that Xarray will auto-detect a number of variables as coordinate variables --- these are variables that are usually describing properties that are common to many \"data variables\". In our case, it picks up the `mapping` variable which describes the Coordinate Reference System for this datacube."
   ]
  },
  {
   "cell_type": "code",
   "execution_count": null,
   "id": "9c159547",
   "metadata": {
    "tags": []
   },
   "outputs": [],
   "source": [
    "dc = xr.open_dataset(url, engine=\"zarr\", chunks=\"auto\", decode_timedelta=False, decode_coords=\"all\")\n",
    "dc"
   ]
  },
  {
   "cell_type": "markdown",
   "id": "b430de7b",
   "metadata": {
    "tags": []
   },
   "source": [
    "This one worked! Let's stop here and define a function that we can use to read additional s3 objects into memory as Xarray Datasets. This will come in handy later in this notebook and in subsequent notebooks. We will store this and other utility functions in `itslive_tools.py` for reuse across notebooks."
   ]
  },
  {
   "cell_type": "code",
   "execution_count": null,
   "id": "04828f90",
   "metadata": {
    "tags": []
   },
   "outputs": [],
   "source": [
    "def read_in_s3(http_url: str, chunks: str | dict | None = \"auto\") -> xr.Dataset:\n",
    "    \"\"\"I'm a function that takes a url pointing to the location of a zarr data cube.\n",
    "    I return an Xarray Dataset. I can take an optional chunk argument which specifies\n",
    "    how the data will be chunked when read into memory\"\"\"\n",
    "    datacube = xr.open_dataset(\n",
    "        http_url,\n",
    "        engine=\"zarr\",\n",
    "        chunks=chunks,\n",
    "        decode_coords=\"all\",\n",
    "        decode_timedelta=False,\n",
    "    )\n",
    "    return datacube"
   ]
  },
  {
   "cell_type": "markdown",
   "id": "fdc28236",
   "metadata": {
    "tags": []
   },
   "source": [
    "### 3) Check spatial footprint of data"
   ]
  },
  {
   "cell_type": "markdown",
   "id": "1377860e",
   "metadata": {
    "tags": []
   },
   "source": [
    "We just read in a very large dataset. \n",
    "\n",
    "We'd like an easy way to be able to visualize the footprint of this data to ensure we specified the correct location without plotting a data variable over the entire footprint, which would be much more computationally and time-intensive. \n",
    "\n",
    "To do so, we need to understand the coordinate system of the data, and its bounds.\n",
    "\n",
    "This dataset has its coordinate system info stored in an array named `mapping`. How would you know that? Scroll through the Xarray Dataset repr, and check the attributes. Variables with CRS information tend to have the `crs_wkt`, `grid_mapping`, `GeoTransform` and related attributes that describe the coordinate system."
   ]
  },
  {
   "cell_type": "code",
   "execution_count": null,
   "id": "33fbae7f",
   "metadata": {
    "tags": []
   },
   "outputs": [],
   "source": [
    "dc.mapping"
   ]
  },
  {
   "cell_type": "markdown",
   "id": "88c5b292",
   "metadata": {
    "tags": []
   },
   "source": [
    "The following function creates a `GeoPandas.GeoDataFrame` describing the spatial footprint of an `xr.Dataset`. "
   ]
  },
  {
   "cell_type": "code",
   "execution_count": null,
   "id": "f903e129",
   "metadata": {
    "tags": []
   },
   "outputs": [],
   "source": [
    "def get_bounds_polygon(input_xr: xr.Dataset) -> gpd.GeoDataFrame:\n",
    "    \"\"\"I'm a function that takes an Xarray Dataset and returns a GeoPandas DataFrame of the bounding box of the Xarray Dataset.\"\"\"\n",
    "\n",
    "    xmin = input_xr.coords[\"x\"].data.min()\n",
    "    xmax = input_xr.coords[\"x\"].data.max()\n",
    "\n",
    "    ymin = input_xr.coords[\"y\"].data.min()\n",
    "    ymax = input_xr.coords[\"y\"].data.max()\n",
    "\n",
    "    pts_ls = [(xmin, ymin), (xmax, ymin), (xmax, ymax), (xmin, ymax), (xmin, ymin)]\n",
    "\n",
    "    crs = f\"epsg:{input_xr.mapping.spatial_epsg}\"\n",
    "\n",
    "    polygon_geom = Polygon(pts_ls)\n",
    "    polygon = gpd.GeoDataFrame(index=[0], crs=crs, geometry=[polygon_geom])\n",
    "\n",
    "    return polygon"
   ]
  },
  {
   "cell_type": "markdown",
   "id": "690fbfd3",
   "metadata": {
    "tags": []
   },
   "source": [
    "Now let's take a look at the cube we've already read:"
   ]
  },
  {
   "cell_type": "code",
   "execution_count": null,
   "id": "f8b09635",
   "metadata": {
    "tags": []
   },
   "outputs": [],
   "source": [
    "bbox = get_bounds_polygon(dc)"
   ]
  },
  {
   "cell_type": "markdown",
   "id": "f24c01c2",
   "metadata": {
    "tags": []
   },
   "source": [
    "`get_bounds_polygon()` returns a geopandas.GeoDataFrame object in the same projection as the velocity data object (local UTM). Re-project to latitude/longitude to view the object more easily on a map:"
   ]
  },
  {
   "cell_type": "code",
   "execution_count": null,
   "id": "bb04184c",
   "metadata": {
    "tags": []
   },
   "outputs": [],
   "source": [
    "bbox = bbox.to_crs(\"EPSG:4326\")"
   ]
  },
  {
   "cell_type": "markdown",
   "id": "7ab9037c",
   "metadata": {
    "tags": []
   },
   "source": [
    "To visualize the footprint, we use the interactive plotting library, [hvPlot](https://hvplot.holoviz.org/)."
   ]
  },
  {
   "cell_type": "code",
   "execution_count": null,
   "id": "880832a9",
   "metadata": {
    "tags": []
   },
   "outputs": [],
   "source": [
    "poly = bbox.hvplot(legend=True, alpha=0.3, tiles=\"ESRI\", color=\"red\", geo=True)\n",
    "poly"
   ]
  },
  {
   "cell_type": "markdown",
   "id": "ed403e9d",
   "metadata": {
    "tags": []
   },
   "source": [
    "## C. Query ITS_LIVE catalog"
   ]
  },
  {
   "cell_type": "markdown",
   "id": "1bc451d9",
   "metadata": {
    "tags": []
   },
   "source": [
    "### 1) Find ITS_LIVE granule for a point of interest\n",
    "Let's look in a different region and see how we could search the ITS_LIVE data cube catalog for the granule that covers our location of interest. There are many ways to do this, this is just one example. \n",
    "\n",
    "First, we read in the catalog GeoJSON file with geopandas:"
   ]
  },
  {
   "cell_type": "code",
   "execution_count": null,
   "id": "9e85b2bd",
   "metadata": {
    "tags": []
   },
   "outputs": [],
   "source": [
    "itslive_catalog = gpd.read_file(\"https://its-live-data.s3.amazonaws.com/datacubes/catalog_v02.json\")\n",
    "itslive_catalog"
   ]
  },
  {
   "cell_type": "markdown",
   "id": "59378266",
   "metadata": {
    "tags": []
   },
   "source": [
    "Below is a function to query the catalog for the s3 url covering a given point. You could easily tweak this function (or write your own!) to select granules based on different properties. Play around with the `itslive_catalog` object to become more familiar with the data it contains and different options for indexing.\n",
    "\n",
    ":::{note}\n",
    "Since this tutorial was originally written, the [ITS_LIVE Python Client](https://github.com/nasa-jpl/itslive-py) was released. This is a great way to access ITS_LIVE data cubes. \n",
    ":::\n"
   ]
  },
  {
   "cell_type": "code",
   "execution_count": null,
   "id": "57c13e04",
   "metadata": {
    "tags": []
   },
   "outputs": [],
   "source": [
    "def find_granule_by_point(input_point: list) -> str:\n",
    "    \"\"\"I take a point in [lon, lat] format and return the url of the granule containing specified point.\n",
    "    Point must be passed in EPSG:4326.\"\"\"\n",
    "\n",
    "    catalog = gpd.read_file(\"https://its-live-data.s3.amazonaws.com/datacubes/catalog_v02.json\")\n",
    "\n",
    "    # make shapely point of input point\n",
    "    p = gpd.GeoSeries([Point(input_point[0], input_point[1])], crs=\"EPSG:4326\")\n",
    "    # make gdf of point\n",
    "    gdf = gdf = gpd.GeoDataFrame({\"label\": \"point\", \"geometry\": p})\n",
    "    # find row of granule\n",
    "    granule = catalog.sjoin(gdf, how=\"inner\")\n",
    "\n",
    "    url = granule[\"zarr_url\"].values[0]\n",
    "    return url"
   ]
  },
  {
   "cell_type": "markdown",
   "id": "cd22b36f",
   "metadata": {
    "tags": []
   },
   "source": [
    "Choose a location in Alaska:"
   ]
  },
  {
   "cell_type": "code",
   "execution_count": null,
   "id": "9983afde",
   "metadata": {
    "tags": []
   },
   "outputs": [],
   "source": [
    "url = find_granule_by_point([-138.958776, 60.748561])\n",
    "url"
   ]
  },
  {
   "cell_type": "markdown",
   "id": "dda0e3d0",
   "metadata": {
    "tags": []
   },
   "source": [
    "Great, this function returned a single url corresponding to the data cube covering the point we supplied. Let's use the `read_in_s3` function we defined to open the datacube as an `xarray.Dataset`"
   ]
  },
  {
   "cell_type": "code",
   "execution_count": null,
   "id": "ef44343b",
   "metadata": {
    "tags": []
   },
   "outputs": [],
   "source": [
    "datacube = read_in_s3(url)\n",
    "datacube"
   ]
  },
  {
   "cell_type": "markdown",
   "id": "3eaf8c6b",
   "metadata": {
    "tags": []
   },
   "source": [
    "### 2) Read + visualize spatial footprint of ITS_LIVE data"
   ]
  },
  {
   "cell_type": "markdown",
   "id": "bbdc2be3",
   "metadata": {
    "tags": []
   },
   "source": [
    "Use the `get_bounds_polygon()` function to take a look at the footprint using `hvplot()`."
   ]
  },
  {
   "cell_type": "code",
   "execution_count": null,
   "id": "8f4e843b",
   "metadata": {
    "tags": []
   },
   "outputs": [],
   "source": [
    "bbox_dc = get_bounds_polygon(datacube)"
   ]
  },
  {
   "cell_type": "code",
   "execution_count": null,
   "id": "4bd503c0",
   "metadata": {
    "tags": []
   },
   "outputs": [],
   "source": [
    "poly = bbox_dc.to_crs(\"EPSG:4326\").hvplot(legend=True, alpha=0.5, tiles=\"ESRI\", color=\"red\", geo=True)\n",
    "poly"
   ]
  },
  {
   "cell_type": "markdown",
   "id": "2f09380b",
   "metadata": {
    "tags": []
   },
   "source": [
    "## Conclusion\n",
    "This notebook demonstrated how to query and access a cloud-optimized remote sensing time series dataset stored in an AWS S3 bucket. The subsequent notebooks in this tutorial will go into much more detail on how to organize, examine and analyze this data. "
   ]
  }
 ],
 "metadata": {
  "celltoolbar": "Tags",
  "kernelspec": {
   "display_name": "geospatial_datacube_book_env",
   "language": "python",
   "name": "python3"
  },
  "language_info": {
   "codemirror_mode": {
    "name": "ipython",
    "version": 3
   },
   "file_extension": ".py",
   "mimetype": "text/x-python",
   "name": "python",
   "nbconvert_exporter": "python",
   "pygments_lexer": "ipython3",
   "version": "3.11.3"
  },
  "papermill": {
   "default_parameters": {},
   "duration": 14.188405,
   "end_time": "2025-03-22T05:49:05.536366",
   "environment_variables": {},
   "exception": null,
   "input_path": "/home/emmamarshall/Desktop/phd_research/ch1/cloud_os_geospatial_datacube_workflows/book/itslive/nbs/1_accessing_itslive_s3_data.ipynb",
   "output_path": "/home/emmamarshall/Desktop/phd_research/ch1/cloud_os_geospatial_datacube_workflows/book/itslive/nbs/1_accessing_itslive_s3_data.ipynb",
   "parameters": {},
   "start_time": "2025-03-22T05:48:51.347961",
   "version": "2.6.0"
  }
 },
 "nbformat": 4,
 "nbformat_minor": 5
}
