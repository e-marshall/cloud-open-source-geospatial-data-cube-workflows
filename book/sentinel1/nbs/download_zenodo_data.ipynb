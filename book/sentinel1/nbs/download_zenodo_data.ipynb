{
 "cells": [
  {
   "cell_type": "code",
   "execution_count": null,
   "metadata": {},
   "outputs": [],
   "source": [
    "%load_ext rich\n",
    "%xmode minimal\n",
    "\n",
    "import cf_xarray\n",
    "import markdown\n",
    "import os\n",
    "import pandas as pd\n",
    "import pathlib\n",
    "import pooch\n",
    "import re\n",
    "import shutil\n",
    "import xarray as xr\n",
    "\n",
    "import s1_tools"
   ]
  },
  {
   "cell_type": "code",
   "execution_count": null,
   "metadata": {},
   "outputs": [],
   "source": [
    "def download_s1_data_from_zenodo(timeseries_type: str, target_dir: str) -> str:\n",
    "\n",
    "    if timeseries_type not in [\"full\", \"subset\"]:\n",
    "        raise ValueError('timeseries_type must be either \"full\" or \"subset\"')\n",
    "    if timeseries_type == \"subset\":\n",
    "        s1_rtc_url = \"https://zenodo.org/records/15036782/files\"\n",
    "        s1_asf_data_cache = pooch.os_cache(\"asf_rtcs_subset\")\n",
    "\n",
    "        pooch_obj = pooch.create(\n",
    "            path=s1_asf_data_cache,\n",
    "            base_url=s1_rtc_url,\n",
    "            registry={\"asf_rtcs_subset.zip\": \"md5:a61df69f92b06c798a17e893b06950bc\"},\n",
    "        )\n",
    "        file_path = pooch_obj.fetch(\"asf_rtcs_subset.zip\", processor=pooch.Unzip(), progressbar=True)\n",
    "\n",
    "    if timeseries_type == \"full\":\n",
    "        s1_rtc_url = \"https://zenodo.org/records/15036782/files\"\n",
    "        s1_asf_data_cache = pooch.os_cache(\"asf_rtcs_full\")\n",
    "\n",
    "        pooch_obj = pooch.create(\n",
    "            path=s1_asf_data_cache,\n",
    "            base_url=s1_rtc_url,\n",
    "            registry={\"asf_rtcs.zip\": \"md5:946c8366bdc89536f7ddf31df6e683ef\"},\n",
    "        )\n",
    "        file_path = pooch_obj.fetch(\"asf_rtcs_full.zip\", processor=pooch.Unzip(), progressbar=True)\n",
    "\n",
    "    for file in file_path:\n",
    "        shutil.move(file, target_dir)\n",
    "\n",
    "    # return file_path\n",
    "    # p = pathlib.Path(file_path[0])\n",
    "    # path_to_rtcs = str(p.parents[1])\n",
    "    # return path_to_rtcs"
   ]
  },
  {
   "cell_type": "code",
   "execution_count": null,
   "metadata": {},
   "outputs": [],
   "source": [
    "target_dir = \"/home/emmamarshall/Desktop/phd_research/ch1/cloud_os_geospatial_datacube_workflows/sentinel1/data/raster_data/subset_timeseries\""
   ]
  },
  {
   "cell_type": "code",
   "execution_count": null,
   "metadata": {},
   "outputs": [],
   "source": [
    "root = pathlib.Path(os.getcwd()).parents[2]\n",
    "target = os.path.join(root, \"book/sentinel1/data/raster_data/subset_timeseries\")"
   ]
  },
  {
   "cell_type": "code",
   "execution_count": null,
   "metadata": {},
   "outputs": [],
   "source": [
    "target"
   ]
  },
  {
   "cell_type": "code",
   "execution_count": null,
   "metadata": {},
   "outputs": [],
   "source": [
    "file_paths_subset = download_s1_data_from_zenodo(\"subset\", target)"
   ]
  },
  {
   "cell_type": "code",
   "execution_count": null,
   "metadata": {},
   "outputs": [],
   "source": [
    "file_paths_subset"
   ]
  }
 ],
 "metadata": {
  "kernelspec": {
   "display_name": "geospatial_datacube_book_env",
   "language": "python",
   "name": "python3"
  },
  "language_info": {
   "codemirror_mode": {
    "name": "ipython",
    "version": 3
   },
   "file_extension": ".py",
   "mimetype": "text/x-python",
   "name": "python",
   "nbconvert_exporter": "python",
   "pygments_lexer": "ipython3"
  }
 },
 "nbformat": 4,
 "nbformat_minor": 2
}
