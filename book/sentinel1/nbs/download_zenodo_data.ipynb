{
 "cells": [
  {
   "cell_type": "code",
   "execution_count": null,
   "metadata": {},
   "outputs": [],
   "source": [
    "def download_s1_data_from_zenodo(timeseries_type:str) -> str:\n",
    "\n",
    "    if timeseries_type not in ['full', 'subset']:\n",
    "        raise ValueError('timeseries_type must be either \"full\" or \"subset\"')\n",
    "    if timeseries_type == 'subset':\n",
    "        s1_rtc_url = 'https://zenodo.org/uploads/15036782'\n",
    "        s1_asf_data_cache = pooch.os_cache('asf_rtcs_subset')\n",
    "\n",
    "        pooch_obj = pooch.create(\n",
    "            path = s1_asf_data_cache,\n",
    "            base_url = s1_rtc_url,\n",
    "            registry={\n",
    "                'asf_rtcs_subset.zip':'md5:a61df69f92b06c798a17e893b06950bc'\n",
    "            })\n",
    "        file_path = pooch_obj.fetch('asf_rtcs_subset.zip',\n",
    "                                    processor=pooch.Unzip(),\n",
    "                                    progressbar=True)\n",
    "\n",
    "    if timeseries_type == 'full':\n",
    "        s1_rtc_url = 'https://zenodo.org/records/7236413/files/'\n",
    "        s1_asf_data_cache = pooch.os_cache('asf_rtcs')\n",
    "\n",
    "        pooch_obj = pooch.create(\n",
    "            path=s1_asf_data_cache,\n",
    "            base_url=s1_rtc_url,\n",
    "            registry={\n",
    "                'asf_rtcs.zip': 'md5:946c8366bdc89536f7ddf31df6e683ef'\n",
    "                }\n",
    "        )\n",
    "        file_path = pooch_obj.fetch('asf_rtcs.zip', \n",
    "                                processor=pooch.Unzip(),\n",
    "                                progressbar=True)\n",
    "    \n",
    "    p = pathlib.Path(file_path[0])\n",
    "    path_to_rtcs = str(p.parents[1])\n",
    "    return path_to_rtcs"
   ]
  }
 ],
 "metadata": {
  "language_info": {
   "name": "python"
  }
 },
 "nbformat": 4,
 "nbformat_minor": 2
}
