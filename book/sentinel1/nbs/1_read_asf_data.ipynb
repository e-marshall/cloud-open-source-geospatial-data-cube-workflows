{
 "cells": [
  {
   "cell_type": "markdown",
   "id": "ab5a73d7-6a11-40d8-9efe-43e1cc70e677",
   "metadata": {},
   "source": [
    "# 4.1 Read Sentinel-1 data processed by ASF\n",
    "\n",
    "This notebook demonstrates working with Sentinel-1 RTC imagery that has been processed on the [ASF On-Demand server](https://docs.asf.alaska.edu/vertex/manual/) and downloaded locally. \n",
    "\n",
    "The downloaded time series of Sentinel-1 imagery is very large. We demonstrate strategies for reading data of this nature into memory by creating a *virtual copy* of the data. \n",
    "\n",
    ":::{admonition} ASF data access options\n",
    "The steps shown in this notebook involve downloading and extracting large volumes of data. **It is not necessary to do this to follow the rest of the content in the tutorial**. We include the demonstration for the purposes of completeness and to help users who may be helped by this example. \n",
    "\n",
    "For more information on different options for downloading data locally, see the [Introduction](../s1_intro.md#different-ways-to-use-this-tutorial).\n",
    ":::\n",
    "\n",
    "::::{tab-set}\n",
    ":::{tab-item} Outline   \n",
    "(content:section_A)=\n",
    "**[A. Prepare to read data into memory](#a-prepare-to-read-data-into-memory)**  \n",
    "- 1) Build lists of file names and paths needed for VRT objects\n",
    "- 2) Create VRT objects \n",
    "\n",
    "(content:section_B)=\n",
    "**[B. Read data](#b-read-data)**  \n",
    "- 1) Take a look at chunking \n",
    ":::\n",
    "\n",
    ":::{tab-item} Learning goals\n",
    "\n",
    "#### Concepts\n",
    "- Understand local file storage and create virtual datasets from locally stored files\n",
    "- Read larger-than-memory data into memory\n",
    "- Use VRT files to create 3-d Xarray data cubes from stack of 2-d image files\n",
    "\n",
    "#### Techniques\n",
    "- Create [GDAL VRT](https://gdal.org/en/stable/drivers/raster/vrt.html) files.\n",
    "\n",
    "\n",
    "TODO add these\n",
    ":::\n",
    "::::"
   ]
  },
  {
   "cell_type": "markdown",
   "id": "52885f87",
   "metadata": {},
   "source": [
    "Expand the next cell to see specific packages used in this notebook and relevant system and version information."
   ]
  },
  {
   "cell_type": "code",
   "execution_count": 16,
   "id": "2eb32b85-47b7-4e1d-baeb-48af7116ce6e",
   "metadata": {
    "tags": [
     "hide-input",
     "hide-output"
    ]
   },
   "outputs": [],
   "source": [
    "# %xmode minimal\n",
    "import os\n",
    "import pathlib\n",
    "import xarray as xr"
   ]
  },
  {
   "cell_type": "markdown",
   "id": "9efdc79f",
   "metadata": {},
   "source": [
    "{{break}}"
   ]
  },
  {
   "cell_type": "markdown",
   "id": "ae7b2541",
   "metadata": {},
   "source": [
    "## A. Prepare to read data into memory"
   ]
  },
  {
   "cell_type": "markdown",
   "id": "21b2fbfb",
   "metadata": {},
   "source": [
    "### 1) Build lists of file names and paths needed for VRT objects\n",
    "\n",
    "After the data is extracted from the compressed files, we have a directory containing sub-directories for each Sentinel-1 image acquisition (scene). Within each sub-directory are all of the files associated with that scene. For more information about the files contained in each directory, see this [section](https://hyp3-docs.asf.alaska.edu/guides/rtc_product_guide/#image-files) of the ASF Sentinel-1 RTC Product Guide.\n",
    "\n",
    "The directory should look like the diagram below:"
   ]
  },
  {
   "cell_type": "markdown",
   "id": "f5f33c79",
   "metadata": {},
   "source": [
    "```\n",
    ".\n",
    "└── s1_asf_data\n",
    "    ├── S1A_IW_20220214T121353_DVP_RTC30_G_gpuned_E1E7\n",
    "    │   ├── S1A_IW_20220214T121353_DVP_RTC30_G_gpuned_51E7_VH.tif.xml\n",
    "    │   ├── S1A_IW_20220214T121353_DVP_RTC30_G_gpuned_51E7_rgb.kmz\n",
    "    │   ├── S1A_IW_20220214T121353_DVP_RTC30_G_gpuned_51E7_shape.prj\n",
    "    │   ├── S1A_IW_20220214T121353_DVP_RTC30_G_gpuned_51E7.png.aux.xml\n",
    "    │   ├── S1A_IW_20220214T121353_DVP_RTC30_G_gpuned_51E7.README.md.txt\n",
    "    │   ├── S1A_IW_20220214T121353_DVP_RTC30_G_gpuned_51E7_rgb.png.aux.xml\n",
    "    │   ├── S1A_IW_20220214T121353_DVP_RTC30_G_gpuned_51E7_rgb.png\n",
    "    │   ├── S1A_IW_20220214T121353_DVP_RTC30_G_gpuned_51E7_VV.tif.xml\n",
    "    │   ├── S1A_IW_20220214T121353_DVP_RTC30_G_gpuned_51E7.png\n",
    "    │   ├── S1A_IW_20220214T121353_DVP_RTC30_G_gpuned_51E7_rgb.png.xml\n",
    "    │   ├── S1A_IW_20220214T121353_DVP_RTC30_G_gpuned_51E7.png.xml\n",
    "    │   ├── S1A_IW_20220214T121353_DVP_RTC30_G_gpuned_51E7_shape.shp\n",
    "    │   ├── S1A_IW_20220214T121353_DVP_RTC30_G_gpuned_51E7_VH.tif\n",
    "    │   ├── S1A_IW_20220214T121353_DVP_RTC30_G_gpuned_51E7.log\n",
    "    │   ├── S1A_IW_20220214T121353_DVP_RTC30_G_gpuned_51E7_VV.tif\n",
    "    │   ├── S1A_IW_20220214T121353_DVP_RTC30_G_gpuned_51E7.kmz\n",
    "    │   ├── S1A_IW_20220214T121353_DVP_RTC30_G_gpuned_51E7_shape.dbf\n",
    "    │   ├── S1A_IW_20220214T121353_DVP_RTC30_G_gpuned_51E7_ls_map.tif.xml\n",
    "    │   ├── S1A_IW_20220214T121353_DVP_RTC30_G_gpuned_51E7_shape.shx\n",
    "    │   └── S1A_IW_20220214T121353_DVP_RTC30_G_gpuned_51E7_ls_map.tif\n",
    "    └── S1A_IW_20210505T000307_DVP_RTC30_G_gpuned_54B1\n",
    "        └── ...\n",
    "```\n",
    "\n"
   ]
  },
  {
   "cell_type": "markdown",
   "id": "6dea76c0",
   "metadata": {},
   "source": [
    "To build GDAL VRT files, we need to pass a list of the input datasets. This means that we need to extract the file path to every file associated with each variable (VV, VH and L-S). \n",
    "\n",
    ":::{attention} \n",
    "If you are following along on your own computer, be sure to specify two things:\n",
    "1. Set `path_to_rtcs` to the location of the downloaded files on your own computer.\n",
    "2. Set `timeseries_type` to `'full'` or `'subset'` depending on if you are using the full time series (103 scenes) or the subset time series (5 scenes).\n",
    ":::"
   ]
  },
  {
   "cell_type": "code",
   "execution_count": 17,
   "id": "8afe4d1f",
   "metadata": {},
   "outputs": [],
   "source": [
    "#Set time series type\n",
    "timeseries_type = \"full\""
   ]
  },
  {
   "cell_type": "markdown",
   "id": "60d1854f",
   "metadata": {},
   "source": [
    ":::{note}\n",
    "The default location of the data downloaded in this tutorial (in `download_zenodo_data_curl.ipynb`) is:\n",
    "`../book/sentinel1/data/raster_data/{timeseries_type}_timeseries/'`. Here, `{timeseries_type} is a stand-in for 'full' or 'subset', depending on which data you're using. \n",
    "\n",
    "If you prefer to store the data in a different location on your computer, update the `path_to_rtcs` variable below to be the full path of the downloaded data. The path should end with 'asf_rtcs.' For example, if you plan to store the data for this tutorial in your Downloads directory, you should specify `path_to_rtcs` like this: \n",
    "```python\n",
    "path_to_rtcs = \"/home/User/Downloads/asf_rtcs\"\n",
    "```\n",
    ":::"
   ]
  },
  {
   "cell_type": "code",
   "execution_count": null,
   "id": "1391d920",
   "metadata": {},
   "outputs": [
    {
     "data": {
      "text/plain": [
       "'../data/raster_data/full_timeseries/asf_rtcs'"
      ]
     },
     "execution_count": 18,
     "metadata": {},
     "output_type": "execute_result"
    }
   ],
   "source": [
    "path_to_rtcs = f\"../data/raster_data/{timeseries_type}_timeseries/asf_rtcs\"\n",
    "path_to_rtcs"
   ]
  },
  {
   "cell_type": "markdown",
   "id": "c2a9efdf",
   "metadata": {},
   "source": [
    "Later in the notebook, we'll also want to point to the parent directory of `asf_rtcs`. To make this easier, we create a variable to do that now:"
   ]
  },
  {
   "cell_type": "code",
   "execution_count": 19,
   "id": "bb33c169",
   "metadata": {},
   "outputs": [
    {
     "data": {
      "text/plain": [
       "'../data/raster_data/full_timeseries'"
      ]
     },
     "execution_count": 19,
     "metadata": {},
     "output_type": "execute_result"
    }
   ],
   "source": [
    "data_path = str(pathlib.Path(path_to_rtcs).parent)\n",
    "data_path"
   ]
  },
  {
   "cell_type": "markdown",
   "id": "8b9bc154",
   "metadata": {},
   "source": [
    "Make a list of all scenes:"
   ]
  },
  {
   "cell_type": "code",
   "execution_count": 20,
   "id": "8d641245",
   "metadata": {},
   "outputs": [],
   "source": [
    "scenes_ls = os.listdir(path_to_rtcs)"
   ]
  },
  {
   "cell_type": "code",
   "execution_count": 21,
   "id": "6dddc6fa",
   "metadata": {},
   "outputs": [
    {
     "data": {
      "text/plain": [
       "['S1A_IW_20220214T121353_DVP_RTC30_G_gpuned_51E7',\n",
       " 'S1A_IW_20210911T121356_DVP_RTC30_G_gpuned_3A2A',\n",
       " 'S1A_IW_20220329T120546_DVP_RTC30_G_gpuned_FD00']"
      ]
     },
     "execution_count": 21,
     "metadata": {},
     "output_type": "execute_result"
    }
   ],
   "source": [
    "#Take a look at the first 3\n",
    "scenes_ls[:3]"
   ]
  },
  {
   "cell_type": "markdown",
   "id": "3a55cd2d",
   "metadata": {},
   "source": [
    "The below function makes a list of all file names across the individual scene directories for VV, VH, ls_map and README files."
   ]
  },
  {
   "cell_type": "code",
   "execution_count": 22,
   "id": "5b36fbb4",
   "metadata": {},
   "outputs": [],
   "source": [
    "def extract_fnames(data_path: str, scene_name: str, variable: str):\n",
    "    # Make list of files within each scene directory in data directory\n",
    "    scene_files_ls = os.listdir(os.path.join(data_path, scene_name))\n",
    "\n",
    "    if variable in [\"vv\", \"vh\"]:\n",
    "        scene_files = [fname for fname in scene_files_ls if fname.endswith(f\"_{variable.upper()}.tif\")]\n",
    "\n",
    "    elif variable == \"ls_map\":\n",
    "        scene_files = [fname for fname in scene_files_ls if fname.endswith(\"_ls_map.tif\")]\n",
    "\n",
    "    elif variable == \"readme\":\n",
    "        scene_files = [file for file in scene_files_ls if file.endswith(\"README.md.txt\")]\n",
    "\n",
    "    return scene_files"
   ]
  },
  {
   "cell_type": "markdown",
   "id": "2e72424d",
   "metadata": {},
   "source": [
    "Below is the output of `extract_fnames()` for files from a single scene directory. Note that `os.listdir()` **does not** preserve the order of the subdirectories as listed on disk. This is okay because we will ensure that the files are sorted in chronological order later."
   ]
  },
  {
   "cell_type": "code",
   "execution_count": 23,
   "id": "b409a588-e769-49d1-b62b-6f585dc9599f",
   "metadata": {},
   "outputs": [
    {
     "name": "stdout",
     "output_type": "stream",
     "text": [
      "['S1A_IW_20220214T121353_DVP_RTC30_G_gpuned_51E7_VV.tif']\n",
      "['S1A_IW_20220214T121353_DVP_RTC30_G_gpuned_51E7_VH.tif']\n",
      "['S1A_IW_20220214T121353_DVP_RTC30_G_gpuned_51E7_ls_map.tif']\n",
      "['S1A_IW_20220214T121353_DVP_RTC30_G_gpuned_51E7.README.md.txt']\n"
     ]
    }
   ],
   "source": [
    "print(extract_fnames(path_to_rtcs, scenes_ls[0], \"vv\"))\n",
    "print(extract_fnames(path_to_rtcs, scenes_ls[0], \"vh\"))\n",
    "print(extract_fnames(path_to_rtcs, scenes_ls[0], \"ls_map\"))\n",
    "print(extract_fnames(path_to_rtcs, scenes_ls[0], \"readme\"))"
   ]
  },
  {
   "cell_type": "markdown",
   "id": "09499727",
   "metadata": {},
   "source": [
    "We need to attach the filenames to the path of each file so that we end up with a list of the full paths to the VV and VH band imagery, layover-shadow maps and README files. Within this step, we will also add checks to ensure that the process is doing what we want, which is to create lists of filepaths for each character **with the same order across lists** so that we can combine the lists into a multivariate time series. As noted above, it is okay that the lists are not in chronological order, as long as they are in **the same** order across variables. "
   ]
  },
  {
   "cell_type": "code",
   "execution_count": 24,
   "id": "e943c0c8",
   "metadata": {},
   "outputs": [],
   "source": [
    "def make_filepath_lists(rtc_path: str, variable: str):\n",
    "    \"\"\"For a single variable (vv, vh, ls_map or readme), make list of\n",
    "    full filepath for each file in time series. Also return dates to ensure\n",
    "    extraction happens in correct order for each variable\n",
    "    Return tuple with form (filepaths list, dates list)\"\"\"\n",
    "    scenes_ls = os.listdir(rtc_path)\n",
    "\n",
    "    fpaths, dates_ls = [], []\n",
    "\n",
    "    for element in range(len(scenes_ls)):\n",
    "        # Extract filenames of each file of interest\n",
    "        files_of_interest = extract_fnames(rtc_path, scenes_ls[element], variable)\n",
    "        # Make full path with filename for each variable\n",
    "        path = os.path.join(rtc_path, scenes_ls[element], files_of_interest[0])\n",
    "        # extract dates to make sure dates are identical across variable lists\n",
    "        date = pathlib.Path(path).stem.split(\"_\")[2]\n",
    "\n",
    "        dates_ls.append(date)\n",
    "        fpaths.append(path)\n",
    "\n",
    "    return (fpaths, dates_ls)"
   ]
  },
  {
   "cell_type": "code",
   "execution_count": 25,
   "id": "1bf94ea5",
   "metadata": {},
   "outputs": [],
   "source": [
    "def create_filenames_dict(rtc_path, variables_ls):\n",
    "    keys, filepaths, dates = [], [], []\n",
    "    for variable in variables_ls:\n",
    "        keys.append(variable)\n",
    "\n",
    "        filespaths_list, dates_list = make_filepath_lists(rtc_path, variable)\n",
    "        filepaths.append(filespaths_list)\n",
    "        dates.append(dates_list)\n",
    "\n",
    "    # make dict of variable names (keys) and associated filepaths\n",
    "    filepaths_dict = dict(zip(keys, filepaths))\n",
    "\n",
    "    # make sure that dates are identical across all lists\n",
    "    assert all(lst == dates[0] for lst in dates) == True\n",
    "    # make sure length of each variable list is the same\n",
    "    assert len(list(set([len(v) for k, v in filepaths_dict.items()]))) == 1\n",
    "\n",
    "    # make dict of variable names (keys) and associated filepaths\n",
    "    filepaths_dict = dict(zip(keys, filepaths))\n",
    "    return filepaths_dict"
   ]
  },
  {
   "cell_type": "code",
   "execution_count": 26,
   "id": "f9cd036e",
   "metadata": {},
   "outputs": [],
   "source": [
    "filepaths_dict = create_filenames_dict(path_to_rtcs, [\"vv\", \"vh\", \"ls_map\", \"readme\"])"
   ]
  },
  {
   "cell_type": "markdown",
   "id": "724a7366",
   "metadata": {},
   "source": [
    "`filepaths_dict` has a key for each file type:"
   ]
  },
  {
   "cell_type": "code",
   "execution_count": 27,
   "id": "22fabdc2",
   "metadata": {},
   "outputs": [
    {
     "data": {
      "text/plain": [
       "dict_keys(['vv', 'vh', 'ls_map', 'readme'])"
      ]
     },
     "execution_count": 27,
     "metadata": {},
     "output_type": "execute_result"
    }
   ],
   "source": [
    "filepaths_dict.keys()"
   ]
  },
  {
   "cell_type": "markdown",
   "id": "c3afeecc",
   "metadata": {},
   "source": [
    "The values are the paths to each file."
   ]
  },
  {
   "cell_type": "code",
   "execution_count": 31,
   "id": "12d7265d",
   "metadata": {},
   "outputs": [
    {
     "data": {
      "text/plain": [
       "['../data/raster_data/full_timeseries/asf_rtcs/S1A_IW_20220214T121353_DVP_RTC30_G_gpuned_51E7/S1A_IW_20220214T121353_DVP_RTC30_G_gpuned_51E7_VV.tif',\n",
       " '../data/raster_data/full_timeseries/asf_rtcs/S1A_IW_20210911T121356_DVP_RTC30_G_gpuned_3A2A/S1A_IW_20210911T121356_DVP_RTC30_G_gpuned_3A2A_VV.tif',\n",
       " '../data/raster_data/full_timeseries/asf_rtcs/S1A_IW_20220329T120546_DVP_RTC30_G_gpuned_FD00/S1A_IW_20220329T120546_DVP_RTC30_G_gpuned_FD00_VV.tif']"
      ]
     },
     "execution_count": 31,
     "metadata": {},
     "output_type": "execute_result"
    }
   ],
   "source": [
    "filepaths_dict[\"vv\"][:3]"
   ]
  },
  {
   "cell_type": "markdown",
   "id": "c9df335f-c7ca-4b0d-8051-c4882942ffbb",
   "metadata": {},
   "source": [
    "### 2) Create VRT objects"
   ]
  },
  {
   "cell_type": "markdown",
   "id": "4a98cd57-07c1-4e7d-ba68-ff20aecd074f",
   "metadata": {},
   "source": [
    "We will be using the `gdalbuildvrt` [command](https://manpages.ubuntu.com/manpages/bionic/man1/gdalbuildvrt.1.html). This command creates a *virtual* GDAL dataset given a list of other GDAL datasets (the Sentinel-1 scenes). `gdalbuildvrt` can make a VRT that either tiles the listed files into a large spatial mosaic, or places them each in a separate band of the VRT. Because we are dealing with a temporal stack of images we want to use the `-separate` flag to place each file into a band of the VRT. </br>\n",
    "\n",
    "Here is where we use the list of file paths we created above. For each variable, write the list of file paths to a `.txt` file which is then passed to `gdalbuildvrt`. "
   ]
  },
  {
   "cell_type": "code",
   "execution_count": 28,
   "id": "f9646960",
   "metadata": {},
   "outputs": [],
   "source": [
    "def create_vrt_object(rtc_parent_data_path:str, fpaths_dict: dict, variable: str):\n",
    "    \"\"\"Function to create VRT files for each variable given a\n",
    "    list of file paths for that variable.\"\"\"\n",
    "\n",
    "    if variable == \"ls\":\n",
    "        variable = \"ls_map\"\n",
    "\n",
    "    # Create text files subdir\n",
    "    pathlib.Path(rtc_parent_data_path, \"txt_files\").mkdir(parents=True, exist_ok=True)\n",
    "    # Create variable to use when writing file paths to txt file\n",
    "    fpath_input_txt = pathlib.Path(rtc_parent_data_path, f\"txt_files/s1_{variable}_fpaths.txt\")\n",
    "    # Create vrt files subdir\n",
    "    pathlib.Path(rtc_parent_data_path, \"vrt_files\").mkdir(parents=True, exist_ok=True)\n",
    "\n",
    "    # Specify location of vrt file\n",
    "    output_vrt_path = pathlib.Path(rtc_parent_data_path, f\"vrt_files/s1_stack_{variable}.vrt\")\n",
    "    # Write file paths to txt file\n",
    "    with open(fpath_input_txt, \"w\") as fp:\n",
    "        for item in fpaths_dict[f\"{variable}\"]:\n",
    "            fp.write(f\"{item}\\n\")\n",
    "\n",
    "    !gdalbuildvrt -separate -input_file_list {fpath_input_txt} {output_vrt_path}"
   ]
  },
  {
   "cell_type": "code",
   "execution_count": 29,
   "id": "08dd4e9c",
   "metadata": {},
   "outputs": [
    {
     "name": "stdout",
     "output_type": "stream",
     "text": [
      "0...10...20...30...40...50...60...70...80...90...100 - done.\n",
      "0...10...20...30...40...50...60...70...80...90...100 - done.\n",
      "0...10...20...30...40...50...60...70...80...90...100 - done.\n"
     ]
    }
   ],
   "source": [
    "create_vrt_object(data_path, filepaths_dict, \"vv\")\n",
    "create_vrt_object(data_path, filepaths_dict, \"vh\")\n",
    "create_vrt_object(data_path, filepaths_dict, \"ls\")"
   ]
  },
  {
   "cell_type": "markdown",
   "id": "adff15f3-68ec-4842-b6ee-4551551fecf4",
   "metadata": {},
   "source": [
    "## B. Read data"
   ]
  },
  {
   "cell_type": "code",
   "execution_count": 30,
   "id": "359581f6",
   "metadata": {},
   "outputs": [],
   "source": [
    "ds_vv = xr.open_dataset(\n",
    "    f'{data_path}/vrt_files/s1_stack_vv.vrt', chunks=\"auto\",)\n",
    "ds_vh = xr.open_dataset(\n",
    "    f'{data_path}/vrt_files/s1_stack_vh.vrt', chunks=\"auto\",)\n",
    "ds_ls = xr.open_dataset(\n",
    "    f'{data_path}/vrt_files/s1_stack_ls_map.vrt', chunks=\"auto\",)"
   ]
  },
  {
   "cell_type": "markdown",
   "id": "04fb8e89-fcd3-4985-9b0e-3c652195969f",
   "metadata": {},
   "source": [
    "Building the `VRT` object assigns every object in the .txt file to a different band. In doing this, we lose the metadata that is associated with the files. The next notebook walks through the steps of reconstructing necessary metadata stored in file names and auxiliary files and attaching it to the Xarray objects read from VRTs."
   ]
  },
  {
   "cell_type": "markdown",
   "id": "979db2a7",
   "metadata": {},
   "source": [
    "### 1) Take a look at chunking\n",
    "\n",
    "Below is the `xr.Dataset` for a single variable. Click on the stacked cylinders icon on the right end of the 'band_data' variable to see how the data is chunked."
   ]
  },
  {
   "cell_type": "code",
   "execution_count": 33,
   "id": "a86a45cb",
   "metadata": {},
   "outputs": [
    {
     "data": {
      "text/html": [
       "<div><svg style=\"position: absolute; width: 0; height: 0; overflow: hidden\">\n",
       "<defs>\n",
       "<symbol id=\"icon-database\" viewBox=\"0 0 32 32\">\n",
       "<path d=\"M16 0c-8.837 0-16 2.239-16 5v4c0 2.761 7.163 5 16 5s16-2.239 16-5v-4c0-2.761-7.163-5-16-5z\"></path>\n",
       "<path d=\"M16 17c-8.837 0-16-2.239-16-5v6c0 2.761 7.163 5 16 5s16-2.239 16-5v-6c0 2.761-7.163 5-16 5z\"></path>\n",
       "<path d=\"M16 26c-8.837 0-16-2.239-16-5v6c0 2.761 7.163 5 16 5s16-2.239 16-5v-6c0 2.761-7.163 5-16 5z\"></path>\n",
       "</symbol>\n",
       "<symbol id=\"icon-file-text2\" viewBox=\"0 0 32 32\">\n",
       "<path d=\"M28.681 7.159c-0.694-0.947-1.662-2.053-2.724-3.116s-2.169-2.030-3.116-2.724c-1.612-1.182-2.393-1.319-2.841-1.319h-15.5c-1.378 0-2.5 1.121-2.5 2.5v27c0 1.378 1.122 2.5 2.5 2.5h23c1.378 0 2.5-1.122 2.5-2.5v-19.5c0-0.448-0.137-1.23-1.319-2.841zM24.543 5.457c0.959 0.959 1.712 1.825 2.268 2.543h-4.811v-4.811c0.718 0.556 1.584 1.309 2.543 2.268zM28 29.5c0 0.271-0.229 0.5-0.5 0.5h-23c-0.271 0-0.5-0.229-0.5-0.5v-27c0-0.271 0.229-0.5 0.5-0.5 0 0 15.499-0 15.5 0v7c0 0.552 0.448 1 1 1h7v19.5z\"></path>\n",
       "<path d=\"M23 26h-14c-0.552 0-1-0.448-1-1s0.448-1 1-1h14c0.552 0 1 0.448 1 1s-0.448 1-1 1z\"></path>\n",
       "<path d=\"M23 22h-14c-0.552 0-1-0.448-1-1s0.448-1 1-1h14c0.552 0 1 0.448 1 1s-0.448 1-1 1z\"></path>\n",
       "<path d=\"M23 18h-14c-0.552 0-1-0.448-1-1s0.448-1 1-1h14c0.552 0 1 0.448 1 1s-0.448 1-1 1z\"></path>\n",
       "</symbol>\n",
       "</defs>\n",
       "</svg>\n",
       "<style>/* CSS stylesheet for displaying xarray objects in jupyterlab.\n",
       " *\n",
       " */\n",
       "\n",
       ":root {\n",
       "  --xr-font-color0: var(--jp-content-font-color0, rgba(0, 0, 0, 1));\n",
       "  --xr-font-color2: var(--jp-content-font-color2, rgba(0, 0, 0, 0.54));\n",
       "  --xr-font-color3: var(--jp-content-font-color3, rgba(0, 0, 0, 0.38));\n",
       "  --xr-border-color: var(--jp-border-color2, #e0e0e0);\n",
       "  --xr-disabled-color: var(--jp-layout-color3, #bdbdbd);\n",
       "  --xr-background-color: var(--jp-layout-color0, white);\n",
       "  --xr-background-color-row-even: var(--jp-layout-color1, white);\n",
       "  --xr-background-color-row-odd: var(--jp-layout-color2, #eeeeee);\n",
       "}\n",
       "\n",
       "html[theme=\"dark\"],\n",
       "html[data-theme=\"dark\"],\n",
       "body[data-theme=\"dark\"],\n",
       "body.vscode-dark {\n",
       "  --xr-font-color0: rgba(255, 255, 255, 1);\n",
       "  --xr-font-color2: rgba(255, 255, 255, 0.54);\n",
       "  --xr-font-color3: rgba(255, 255, 255, 0.38);\n",
       "  --xr-border-color: #1f1f1f;\n",
       "  --xr-disabled-color: #515151;\n",
       "  --xr-background-color: #111111;\n",
       "  --xr-background-color-row-even: #111111;\n",
       "  --xr-background-color-row-odd: #313131;\n",
       "}\n",
       "\n",
       ".xr-wrap {\n",
       "  display: block !important;\n",
       "  min-width: 300px;\n",
       "  max-width: 700px;\n",
       "}\n",
       "\n",
       ".xr-text-repr-fallback {\n",
       "  /* fallback to plain text repr when CSS is not injected (untrusted notebook) */\n",
       "  display: none;\n",
       "}\n",
       "\n",
       ".xr-header {\n",
       "  padding-top: 6px;\n",
       "  padding-bottom: 6px;\n",
       "  margin-bottom: 4px;\n",
       "  border-bottom: solid 1px var(--xr-border-color);\n",
       "}\n",
       "\n",
       ".xr-header > div,\n",
       ".xr-header > ul {\n",
       "  display: inline;\n",
       "  margin-top: 0;\n",
       "  margin-bottom: 0;\n",
       "}\n",
       "\n",
       ".xr-obj-type,\n",
       ".xr-array-name {\n",
       "  margin-left: 2px;\n",
       "  margin-right: 10px;\n",
       "}\n",
       "\n",
       ".xr-obj-type {\n",
       "  color: var(--xr-font-color2);\n",
       "}\n",
       "\n",
       ".xr-sections {\n",
       "  padding-left: 0 !important;\n",
       "  display: grid;\n",
       "  grid-template-columns: 150px auto auto 1fr 0 20px 0 20px;\n",
       "}\n",
       "\n",
       ".xr-section-item {\n",
       "  display: contents;\n",
       "}\n",
       "\n",
       ".xr-section-item input {\n",
       "  display: inline-block;\n",
       "  opacity: 0;\n",
       "  height: 0;\n",
       "}\n",
       "\n",
       ".xr-section-item input + label {\n",
       "  color: var(--xr-disabled-color);\n",
       "}\n",
       "\n",
       ".xr-section-item input:enabled + label {\n",
       "  cursor: pointer;\n",
       "  color: var(--xr-font-color2);\n",
       "}\n",
       "\n",
       ".xr-section-item input:focus + label {\n",
       "  border: 2px solid var(--xr-font-color0);\n",
       "}\n",
       "\n",
       ".xr-section-item input:enabled + label:hover {\n",
       "  color: var(--xr-font-color0);\n",
       "}\n",
       "\n",
       ".xr-section-summary {\n",
       "  grid-column: 1;\n",
       "  color: var(--xr-font-color2);\n",
       "  font-weight: 500;\n",
       "}\n",
       "\n",
       ".xr-section-summary > span {\n",
       "  display: inline-block;\n",
       "  padding-left: 0.5em;\n",
       "}\n",
       "\n",
       ".xr-section-summary-in:disabled + label {\n",
       "  color: var(--xr-font-color2);\n",
       "}\n",
       "\n",
       ".xr-section-summary-in + label:before {\n",
       "  display: inline-block;\n",
       "  content: \"►\";\n",
       "  font-size: 11px;\n",
       "  width: 15px;\n",
       "  text-align: center;\n",
       "}\n",
       "\n",
       ".xr-section-summary-in:disabled + label:before {\n",
       "  color: var(--xr-disabled-color);\n",
       "}\n",
       "\n",
       ".xr-section-summary-in:checked + label:before {\n",
       "  content: \"▼\";\n",
       "}\n",
       "\n",
       ".xr-section-summary-in:checked + label > span {\n",
       "  display: none;\n",
       "}\n",
       "\n",
       ".xr-section-summary,\n",
       ".xr-section-inline-details {\n",
       "  padding-top: 4px;\n",
       "  padding-bottom: 4px;\n",
       "}\n",
       "\n",
       ".xr-section-inline-details {\n",
       "  grid-column: 2 / -1;\n",
       "}\n",
       "\n",
       ".xr-section-details {\n",
       "  display: none;\n",
       "  grid-column: 1 / -1;\n",
       "  margin-bottom: 5px;\n",
       "}\n",
       "\n",
       ".xr-section-summary-in:checked ~ .xr-section-details {\n",
       "  display: contents;\n",
       "}\n",
       "\n",
       ".xr-array-wrap {\n",
       "  grid-column: 1 / -1;\n",
       "  display: grid;\n",
       "  grid-template-columns: 20px auto;\n",
       "}\n",
       "\n",
       ".xr-array-wrap > label {\n",
       "  grid-column: 1;\n",
       "  vertical-align: top;\n",
       "}\n",
       "\n",
       ".xr-preview {\n",
       "  color: var(--xr-font-color3);\n",
       "}\n",
       "\n",
       ".xr-array-preview,\n",
       ".xr-array-data {\n",
       "  padding: 0 5px !important;\n",
       "  grid-column: 2;\n",
       "}\n",
       "\n",
       ".xr-array-data,\n",
       ".xr-array-in:checked ~ .xr-array-preview {\n",
       "  display: none;\n",
       "}\n",
       "\n",
       ".xr-array-in:checked ~ .xr-array-data,\n",
       ".xr-array-preview {\n",
       "  display: inline-block;\n",
       "}\n",
       "\n",
       ".xr-dim-list {\n",
       "  display: inline-block !important;\n",
       "  list-style: none;\n",
       "  padding: 0 !important;\n",
       "  margin: 0;\n",
       "}\n",
       "\n",
       ".xr-dim-list li {\n",
       "  display: inline-block;\n",
       "  padding: 0;\n",
       "  margin: 0;\n",
       "}\n",
       "\n",
       ".xr-dim-list:before {\n",
       "  content: \"(\";\n",
       "}\n",
       "\n",
       ".xr-dim-list:after {\n",
       "  content: \")\";\n",
       "}\n",
       "\n",
       ".xr-dim-list li:not(:last-child):after {\n",
       "  content: \",\";\n",
       "  padding-right: 5px;\n",
       "}\n",
       "\n",
       ".xr-has-index {\n",
       "  font-weight: bold;\n",
       "}\n",
       "\n",
       ".xr-var-list,\n",
       ".xr-var-item {\n",
       "  display: contents;\n",
       "}\n",
       "\n",
       ".xr-var-item > div,\n",
       ".xr-var-item label,\n",
       ".xr-var-item > .xr-var-name span {\n",
       "  background-color: var(--xr-background-color-row-even);\n",
       "  margin-bottom: 0;\n",
       "}\n",
       "\n",
       ".xr-var-item > .xr-var-name:hover span {\n",
       "  padding-right: 5px;\n",
       "}\n",
       "\n",
       ".xr-var-list > li:nth-child(odd) > div,\n",
       ".xr-var-list > li:nth-child(odd) > label,\n",
       ".xr-var-list > li:nth-child(odd) > .xr-var-name span {\n",
       "  background-color: var(--xr-background-color-row-odd);\n",
       "}\n",
       "\n",
       ".xr-var-name {\n",
       "  grid-column: 1;\n",
       "}\n",
       "\n",
       ".xr-var-dims {\n",
       "  grid-column: 2;\n",
       "}\n",
       "\n",
       ".xr-var-dtype {\n",
       "  grid-column: 3;\n",
       "  text-align: right;\n",
       "  color: var(--xr-font-color2);\n",
       "}\n",
       "\n",
       ".xr-var-preview {\n",
       "  grid-column: 4;\n",
       "}\n",
       "\n",
       ".xr-index-preview {\n",
       "  grid-column: 2 / 5;\n",
       "  color: var(--xr-font-color2);\n",
       "}\n",
       "\n",
       ".xr-var-name,\n",
       ".xr-var-dims,\n",
       ".xr-var-dtype,\n",
       ".xr-preview,\n",
       ".xr-attrs dt {\n",
       "  white-space: nowrap;\n",
       "  overflow: hidden;\n",
       "  text-overflow: ellipsis;\n",
       "  padding-right: 10px;\n",
       "}\n",
       "\n",
       ".xr-var-name:hover,\n",
       ".xr-var-dims:hover,\n",
       ".xr-var-dtype:hover,\n",
       ".xr-attrs dt:hover {\n",
       "  overflow: visible;\n",
       "  width: auto;\n",
       "  z-index: 1;\n",
       "}\n",
       "\n",
       ".xr-var-attrs,\n",
       ".xr-var-data,\n",
       ".xr-index-data {\n",
       "  display: none;\n",
       "  background-color: var(--xr-background-color) !important;\n",
       "  padding-bottom: 5px !important;\n",
       "}\n",
       "\n",
       ".xr-var-attrs-in:checked ~ .xr-var-attrs,\n",
       ".xr-var-data-in:checked ~ .xr-var-data,\n",
       ".xr-index-data-in:checked ~ .xr-index-data {\n",
       "  display: block;\n",
       "}\n",
       "\n",
       ".xr-var-data > table {\n",
       "  float: right;\n",
       "}\n",
       "\n",
       ".xr-var-name span,\n",
       ".xr-var-data,\n",
       ".xr-index-name div,\n",
       ".xr-index-data,\n",
       ".xr-attrs {\n",
       "  padding-left: 25px !important;\n",
       "}\n",
       "\n",
       ".xr-attrs,\n",
       ".xr-var-attrs,\n",
       ".xr-var-data,\n",
       ".xr-index-data {\n",
       "  grid-column: 1 / -1;\n",
       "}\n",
       "\n",
       "dl.xr-attrs {\n",
       "  padding: 0;\n",
       "  margin: 0;\n",
       "  display: grid;\n",
       "  grid-template-columns: 125px auto;\n",
       "}\n",
       "\n",
       ".xr-attrs dt,\n",
       ".xr-attrs dd {\n",
       "  padding: 0;\n",
       "  margin: 0;\n",
       "  float: left;\n",
       "  padding-right: 10px;\n",
       "  width: auto;\n",
       "}\n",
       "\n",
       ".xr-attrs dt {\n",
       "  font-weight: normal;\n",
       "  grid-column: 1;\n",
       "}\n",
       "\n",
       ".xr-attrs dt:hover span {\n",
       "  display: inline-block;\n",
       "  background: var(--xr-background-color);\n",
       "  padding-right: 10px;\n",
       "}\n",
       "\n",
       ".xr-attrs dd {\n",
       "  grid-column: 2;\n",
       "  white-space: pre-wrap;\n",
       "  word-break: break-all;\n",
       "}\n",
       "\n",
       ".xr-icon-database,\n",
       ".xr-icon-file-text2,\n",
       ".xr-no-icon {\n",
       "  display: inline-block;\n",
       "  vertical-align: middle;\n",
       "  width: 1em;\n",
       "  height: 1.5em !important;\n",
       "  stroke-width: 0;\n",
       "  stroke: currentColor;\n",
       "  fill: currentColor;\n",
       "}\n",
       "</style><pre class='xr-text-repr-fallback'>&lt;xarray.Dataset&gt; Size: 96GB\n",
       "Dimensions:      (band: 103, x: 17452, y: 13379)\n",
       "Coordinates:\n",
       "  * band         (band) int64 824B 1 2 3 4 5 6 7 8 ... 97 98 99 100 101 102 103\n",
       "  * x            (x) float64 140kB 3.833e+05 3.833e+05 ... 9.068e+05 9.068e+05\n",
       "  * y            (y) float64 107kB 3.309e+06 3.309e+06 ... 2.907e+06 2.907e+06\n",
       "    spatial_ref  int64 8B ...\n",
       "Data variables:\n",
       "    band_data    (band, y, x) float32 96GB dask.array&lt;chunksize=(12, 1536, 1536), meta=np.ndarray&gt;</pre><div class='xr-wrap' style='display:none'><div class='xr-header'><div class='xr-obj-type'>xarray.Dataset</div></div><ul class='xr-sections'><li class='xr-section-item'><input id='section-492ed191-59a3-4ec6-a779-4be04bca39e8' class='xr-section-summary-in' type='checkbox' disabled ><label for='section-492ed191-59a3-4ec6-a779-4be04bca39e8' class='xr-section-summary'  title='Expand/collapse section'>Dimensions:</label><div class='xr-section-inline-details'><ul class='xr-dim-list'><li><span class='xr-has-index'>band</span>: 103</li><li><span class='xr-has-index'>x</span>: 17452</li><li><span class='xr-has-index'>y</span>: 13379</li></ul></div><div class='xr-section-details'></div></li><li class='xr-section-item'><input id='section-2f997c83-e4b3-4110-bced-20edf1b27c7e' class='xr-section-summary-in' type='checkbox'  checked><label for='section-2f997c83-e4b3-4110-bced-20edf1b27c7e' class='xr-section-summary' >Coordinates: <span>(4)</span></label><div class='xr-section-inline-details'></div><div class='xr-section-details'><ul class='xr-var-list'><li class='xr-var-item'><div class='xr-var-name'><span class='xr-has-index'>band</span></div><div class='xr-var-dims'>(band)</div><div class='xr-var-dtype'>int64</div><div class='xr-var-preview xr-preview'>1 2 3 4 5 6 ... 99 100 101 102 103</div><input id='attrs-a6b535b9-000f-4ee6-b47f-0d954b09bffb' class='xr-var-attrs-in' type='checkbox' disabled><label for='attrs-a6b535b9-000f-4ee6-b47f-0d954b09bffb' title='Show/Hide attributes'><svg class='icon xr-icon-file-text2'><use xlink:href='#icon-file-text2'></use></svg></label><input id='data-31e796cc-91c2-489a-ab82-1550c9e1b91b' class='xr-var-data-in' type='checkbox'><label for='data-31e796cc-91c2-489a-ab82-1550c9e1b91b' title='Show/Hide data repr'><svg class='icon xr-icon-database'><use xlink:href='#icon-database'></use></svg></label><div class='xr-var-attrs'><dl class='xr-attrs'></dl></div><div class='xr-var-data'><pre>array([  1,   2,   3,   4,   5,   6,   7,   8,   9,  10,  11,  12,  13,  14,\n",
       "        15,  16,  17,  18,  19,  20,  21,  22,  23,  24,  25,  26,  27,  28,\n",
       "        29,  30,  31,  32,  33,  34,  35,  36,  37,  38,  39,  40,  41,  42,\n",
       "        43,  44,  45,  46,  47,  48,  49,  50,  51,  52,  53,  54,  55,  56,\n",
       "        57,  58,  59,  60,  61,  62,  63,  64,  65,  66,  67,  68,  69,  70,\n",
       "        71,  72,  73,  74,  75,  76,  77,  78,  79,  80,  81,  82,  83,  84,\n",
       "        85,  86,  87,  88,  89,  90,  91,  92,  93,  94,  95,  96,  97,  98,\n",
       "        99, 100, 101, 102, 103])</pre></div></li><li class='xr-var-item'><div class='xr-var-name'><span class='xr-has-index'>x</span></div><div class='xr-var-dims'>(x)</div><div class='xr-var-dtype'>float64</div><div class='xr-var-preview xr-preview'>3.833e+05 3.833e+05 ... 9.068e+05</div><input id='attrs-56225173-1a19-4294-8f0a-07c9aa1e082a' class='xr-var-attrs-in' type='checkbox' disabled><label for='attrs-56225173-1a19-4294-8f0a-07c9aa1e082a' title='Show/Hide attributes'><svg class='icon xr-icon-file-text2'><use xlink:href='#icon-file-text2'></use></svg></label><input id='data-d39216ed-ae1e-45bc-9892-30aa82dd0dda' class='xr-var-data-in' type='checkbox'><label for='data-d39216ed-ae1e-45bc-9892-30aa82dd0dda' title='Show/Hide data repr'><svg class='icon xr-icon-database'><use xlink:href='#icon-database'></use></svg></label><div class='xr-var-attrs'><dl class='xr-attrs'></dl></div><div class='xr-var-data'><pre>array([383265., 383295., 383325., ..., 906735., 906765., 906795.],\n",
       "      shape=(17452,))</pre></div></li><li class='xr-var-item'><div class='xr-var-name'><span class='xr-has-index'>y</span></div><div class='xr-var-dims'>(y)</div><div class='xr-var-dtype'>float64</div><div class='xr-var-preview xr-preview'>3.309e+06 3.309e+06 ... 2.907e+06</div><input id='attrs-350eedef-52a9-4ac3-826d-03cdac3917fd' class='xr-var-attrs-in' type='checkbox' disabled><label for='attrs-350eedef-52a9-4ac3-826d-03cdac3917fd' title='Show/Hide attributes'><svg class='icon xr-icon-file-text2'><use xlink:href='#icon-file-text2'></use></svg></label><input id='data-9b0d6bdd-3c7f-49a9-b2ed-03cef0321ac8' class='xr-var-data-in' type='checkbox'><label for='data-9b0d6bdd-3c7f-49a9-b2ed-03cef0321ac8' title='Show/Hide data repr'><svg class='icon xr-icon-database'><use xlink:href='#icon-database'></use></svg></label><div class='xr-var-attrs'><dl class='xr-attrs'></dl></div><div class='xr-var-data'><pre>array([3308715., 3308685., 3308655., ..., 2907435., 2907405., 2907375.],\n",
       "      shape=(13379,))</pre></div></li><li class='xr-var-item'><div class='xr-var-name'><span>spatial_ref</span></div><div class='xr-var-dims'>()</div><div class='xr-var-dtype'>int64</div><div class='xr-var-preview xr-preview'>...</div><input id='attrs-1ea5aa81-7265-4fd7-8c6b-3b76a49ca908' class='xr-var-attrs-in' type='checkbox' ><label for='attrs-1ea5aa81-7265-4fd7-8c6b-3b76a49ca908' title='Show/Hide attributes'><svg class='icon xr-icon-file-text2'><use xlink:href='#icon-file-text2'></use></svg></label><input id='data-224f347d-0afe-4762-ae15-080530ca40d7' class='xr-var-data-in' type='checkbox'><label for='data-224f347d-0afe-4762-ae15-080530ca40d7' title='Show/Hide data repr'><svg class='icon xr-icon-database'><use xlink:href='#icon-database'></use></svg></label><div class='xr-var-attrs'><dl class='xr-attrs'><dt><span>crs_wkt :</span></dt><dd>PROJCS[&quot;WGS 84 / UTM zone 45N&quot;,GEOGCS[&quot;WGS 84&quot;,DATUM[&quot;WGS_1984&quot;,SPHEROID[&quot;WGS 84&quot;,6378137,298.257223563,AUTHORITY[&quot;EPSG&quot;,&quot;7030&quot;]],AUTHORITY[&quot;EPSG&quot;,&quot;6326&quot;]],PRIMEM[&quot;Greenwich&quot;,0,AUTHORITY[&quot;EPSG&quot;,&quot;8901&quot;]],UNIT[&quot;degree&quot;,0.0174532925199433,AUTHORITY[&quot;EPSG&quot;,&quot;9122&quot;]],AUTHORITY[&quot;EPSG&quot;,&quot;4326&quot;]],PROJECTION[&quot;Transverse_Mercator&quot;],PARAMETER[&quot;latitude_of_origin&quot;,0],PARAMETER[&quot;central_meridian&quot;,87],PARAMETER[&quot;scale_factor&quot;,0.9996],PARAMETER[&quot;false_easting&quot;,500000],PARAMETER[&quot;false_northing&quot;,0],UNIT[&quot;metre&quot;,1,AUTHORITY[&quot;EPSG&quot;,&quot;9001&quot;]],AXIS[&quot;Easting&quot;,EAST],AXIS[&quot;Northing&quot;,NORTH],AUTHORITY[&quot;EPSG&quot;,&quot;32645&quot;]]</dd><dt><span>semi_major_axis :</span></dt><dd>6378137.0</dd><dt><span>semi_minor_axis :</span></dt><dd>6356752.314245179</dd><dt><span>inverse_flattening :</span></dt><dd>298.257223563</dd><dt><span>reference_ellipsoid_name :</span></dt><dd>WGS 84</dd><dt><span>longitude_of_prime_meridian :</span></dt><dd>0.0</dd><dt><span>prime_meridian_name :</span></dt><dd>Greenwich</dd><dt><span>geographic_crs_name :</span></dt><dd>WGS 84</dd><dt><span>horizontal_datum_name :</span></dt><dd>World Geodetic System 1984</dd><dt><span>projected_crs_name :</span></dt><dd>WGS 84 / UTM zone 45N</dd><dt><span>grid_mapping_name :</span></dt><dd>transverse_mercator</dd><dt><span>latitude_of_projection_origin :</span></dt><dd>0.0</dd><dt><span>longitude_of_central_meridian :</span></dt><dd>87.0</dd><dt><span>false_easting :</span></dt><dd>500000.0</dd><dt><span>false_northing :</span></dt><dd>0.0</dd><dt><span>scale_factor_at_central_meridian :</span></dt><dd>0.9996</dd><dt><span>spatial_ref :</span></dt><dd>PROJCS[&quot;WGS 84 / UTM zone 45N&quot;,GEOGCS[&quot;WGS 84&quot;,DATUM[&quot;WGS_1984&quot;,SPHEROID[&quot;WGS 84&quot;,6378137,298.257223563,AUTHORITY[&quot;EPSG&quot;,&quot;7030&quot;]],AUTHORITY[&quot;EPSG&quot;,&quot;6326&quot;]],PRIMEM[&quot;Greenwich&quot;,0,AUTHORITY[&quot;EPSG&quot;,&quot;8901&quot;]],UNIT[&quot;degree&quot;,0.0174532925199433,AUTHORITY[&quot;EPSG&quot;,&quot;9122&quot;]],AUTHORITY[&quot;EPSG&quot;,&quot;4326&quot;]],PROJECTION[&quot;Transverse_Mercator&quot;],PARAMETER[&quot;latitude_of_origin&quot;,0],PARAMETER[&quot;central_meridian&quot;,87],PARAMETER[&quot;scale_factor&quot;,0.9996],PARAMETER[&quot;false_easting&quot;,500000],PARAMETER[&quot;false_northing&quot;,0],UNIT[&quot;metre&quot;,1,AUTHORITY[&quot;EPSG&quot;,&quot;9001&quot;]],AXIS[&quot;Easting&quot;,EAST],AXIS[&quot;Northing&quot;,NORTH],AUTHORITY[&quot;EPSG&quot;,&quot;32645&quot;]]</dd><dt><span>GeoTransform :</span></dt><dd>383250.0 30.0 0.0 3308730.0 0.0 -30.0</dd></dl></div><div class='xr-var-data'><pre>[1 values with dtype=int64]</pre></div></li></ul></div></li><li class='xr-section-item'><input id='section-6ff07284-2953-4938-ba3b-0e3b1081a35e' class='xr-section-summary-in' type='checkbox'  checked><label for='section-6ff07284-2953-4938-ba3b-0e3b1081a35e' class='xr-section-summary' >Data variables: <span>(1)</span></label><div class='xr-section-inline-details'></div><div class='xr-section-details'><ul class='xr-var-list'><li class='xr-var-item'><div class='xr-var-name'><span>band_data</span></div><div class='xr-var-dims'>(band, y, x)</div><div class='xr-var-dtype'>float32</div><div class='xr-var-preview xr-preview'>dask.array&lt;chunksize=(12, 1536, 1536), meta=np.ndarray&gt;</div><input id='attrs-8e8f8754-0bf8-4fc5-a0d9-c5d52d9fa87c' class='xr-var-attrs-in' type='checkbox' disabled><label for='attrs-8e8f8754-0bf8-4fc5-a0d9-c5d52d9fa87c' title='Show/Hide attributes'><svg class='icon xr-icon-file-text2'><use xlink:href='#icon-file-text2'></use></svg></label><input id='data-f4fc52f9-7502-46b2-ad65-f82a6abbbdcc' class='xr-var-data-in' type='checkbox'><label for='data-f4fc52f9-7502-46b2-ad65-f82a6abbbdcc' title='Show/Hide data repr'><svg class='icon xr-icon-database'><use xlink:href='#icon-database'></use></svg></label><div class='xr-var-attrs'><dl class='xr-attrs'></dl></div><div class='xr-var-data'><table>\n",
       "    <tr>\n",
       "        <td>\n",
       "            <table style=\"border-collapse: collapse;\">\n",
       "                <thead>\n",
       "                    <tr>\n",
       "                        <td> </td>\n",
       "                        <th> Array </th>\n",
       "                        <th> Chunk </th>\n",
       "                    </tr>\n",
       "                </thead>\n",
       "                <tbody>\n",
       "                    \n",
       "                    <tr>\n",
       "                        <th> Bytes </th>\n",
       "                        <td> 89.59 GiB </td>\n",
       "                        <td> 108.00 MiB </td>\n",
       "                    </tr>\n",
       "                    \n",
       "                    <tr>\n",
       "                        <th> Shape </th>\n",
       "                        <td> (103, 13379, 17452) </td>\n",
       "                        <td> (12, 1536, 1536) </td>\n",
       "                    </tr>\n",
       "                    <tr>\n",
       "                        <th> Dask graph </th>\n",
       "                        <td colspan=\"2\"> 972 chunks in 2 graph layers </td>\n",
       "                    </tr>\n",
       "                    <tr>\n",
       "                        <th> Data type </th>\n",
       "                        <td colspan=\"2\"> float32 numpy.ndarray </td>\n",
       "                    </tr>\n",
       "                </tbody>\n",
       "            </table>\n",
       "        </td>\n",
       "        <td>\n",
       "        <svg width=\"194\" height=\"156\" style=\"stroke:rgb(0,0,0);stroke-width:1\" >\n",
       "\n",
       "  <!-- Horizontal lines -->\n",
       "  <line x1=\"10\" y1=\"0\" x2=\"24\" y2=\"14\" style=\"stroke-width:2\" />\n",
       "  <line x1=\"10\" y1=\"10\" x2=\"24\" y2=\"25\" />\n",
       "  <line x1=\"10\" y1=\"21\" x2=\"24\" y2=\"36\" />\n",
       "  <line x1=\"10\" y1=\"31\" x2=\"24\" y2=\"46\" />\n",
       "  <line x1=\"10\" y1=\"42\" x2=\"24\" y2=\"57\" />\n",
       "  <line x1=\"10\" y1=\"52\" x2=\"24\" y2=\"67\" />\n",
       "  <line x1=\"10\" y1=\"63\" x2=\"24\" y2=\"78\" />\n",
       "  <line x1=\"10\" y1=\"73\" x2=\"24\" y2=\"88\" />\n",
       "  <line x1=\"10\" y1=\"84\" x2=\"24\" y2=\"99\" />\n",
       "  <line x1=\"10\" y1=\"91\" x2=\"24\" y2=\"106\" style=\"stroke-width:2\" />\n",
       "\n",
       "  <!-- Vertical lines -->\n",
       "  <line x1=\"10\" y1=\"0\" x2=\"10\" y2=\"91\" style=\"stroke-width:2\" />\n",
       "  <line x1=\"11\" y1=\"1\" x2=\"11\" y2=\"93\" />\n",
       "  <line x1=\"13\" y1=\"3\" x2=\"13\" y2=\"95\" />\n",
       "  <line x1=\"15\" y1=\"5\" x2=\"15\" y2=\"97\" />\n",
       "  <line x1=\"16\" y1=\"6\" x2=\"16\" y2=\"98\" />\n",
       "  <line x1=\"18\" y1=\"8\" x2=\"18\" y2=\"100\" />\n",
       "  <line x1=\"20\" y1=\"10\" x2=\"20\" y2=\"102\" />\n",
       "  <line x1=\"22\" y1=\"12\" x2=\"22\" y2=\"104\" />\n",
       "  <line x1=\"23\" y1=\"13\" x2=\"23\" y2=\"105\" />\n",
       "  <line x1=\"24\" y1=\"14\" x2=\"24\" y2=\"106\" style=\"stroke-width:2\" />\n",
       "\n",
       "  <!-- Colored Rectangle -->\n",
       "  <polygon points=\"10.0,0.0 24.9485979497544,14.948597949754403 24.9485979497544,106.94263874737072 10.0,91.99404079761632\" style=\"fill:#ECB172A0;stroke-width:0\"/>\n",
       "\n",
       "  <!-- Horizontal lines -->\n",
       "  <line x1=\"10\" y1=\"0\" x2=\"130\" y2=\"0\" style=\"stroke-width:2\" />\n",
       "  <line x1=\"11\" y1=\"1\" x2=\"131\" y2=\"1\" />\n",
       "  <line x1=\"13\" y1=\"3\" x2=\"133\" y2=\"3\" />\n",
       "  <line x1=\"15\" y1=\"5\" x2=\"135\" y2=\"5\" />\n",
       "  <line x1=\"16\" y1=\"6\" x2=\"136\" y2=\"6\" />\n",
       "  <line x1=\"18\" y1=\"8\" x2=\"138\" y2=\"8\" />\n",
       "  <line x1=\"20\" y1=\"10\" x2=\"140\" y2=\"10\" />\n",
       "  <line x1=\"22\" y1=\"12\" x2=\"142\" y2=\"12\" />\n",
       "  <line x1=\"23\" y1=\"13\" x2=\"143\" y2=\"13\" />\n",
       "  <line x1=\"24\" y1=\"14\" x2=\"144\" y2=\"14\" style=\"stroke-width:2\" />\n",
       "\n",
       "  <!-- Vertical lines -->\n",
       "  <line x1=\"10\" y1=\"0\" x2=\"24\" y2=\"14\" style=\"stroke-width:2\" />\n",
       "  <line x1=\"20\" y1=\"0\" x2=\"35\" y2=\"14\" />\n",
       "  <line x1=\"31\" y1=\"0\" x2=\"46\" y2=\"14\" />\n",
       "  <line x1=\"41\" y1=\"0\" x2=\"56\" y2=\"14\" />\n",
       "  <line x1=\"52\" y1=\"0\" x2=\"67\" y2=\"14\" />\n",
       "  <line x1=\"62\" y1=\"0\" x2=\"77\" y2=\"14\" />\n",
       "  <line x1=\"73\" y1=\"0\" x2=\"88\" y2=\"14\" />\n",
       "  <line x1=\"83\" y1=\"0\" x2=\"98\" y2=\"14\" />\n",
       "  <line x1=\"94\" y1=\"0\" x2=\"109\" y2=\"14\" />\n",
       "  <line x1=\"105\" y1=\"0\" x2=\"120\" y2=\"14\" />\n",
       "  <line x1=\"115\" y1=\"0\" x2=\"130\" y2=\"14\" />\n",
       "  <line x1=\"126\" y1=\"0\" x2=\"141\" y2=\"14\" />\n",
       "  <line x1=\"130\" y1=\"0\" x2=\"144\" y2=\"14\" style=\"stroke-width:2\" />\n",
       "\n",
       "  <!-- Colored Rectangle -->\n",
       "  <polygon points=\"10.0,0.0 130.0,0.0 144.9485979497544,14.948597949754403 24.9485979497544,14.948597949754403\" style=\"fill:#ECB172A0;stroke-width:0\"/>\n",
       "\n",
       "  <!-- Horizontal lines -->\n",
       "  <line x1=\"24\" y1=\"14\" x2=\"144\" y2=\"14\" style=\"stroke-width:2\" />\n",
       "  <line x1=\"24\" y1=\"25\" x2=\"144\" y2=\"25\" />\n",
       "  <line x1=\"24\" y1=\"36\" x2=\"144\" y2=\"36\" />\n",
       "  <line x1=\"24\" y1=\"46\" x2=\"144\" y2=\"46\" />\n",
       "  <line x1=\"24\" y1=\"57\" x2=\"144\" y2=\"57\" />\n",
       "  <line x1=\"24\" y1=\"67\" x2=\"144\" y2=\"67\" />\n",
       "  <line x1=\"24\" y1=\"78\" x2=\"144\" y2=\"78\" />\n",
       "  <line x1=\"24\" y1=\"88\" x2=\"144\" y2=\"88\" />\n",
       "  <line x1=\"24\" y1=\"99\" x2=\"144\" y2=\"99\" />\n",
       "  <line x1=\"24\" y1=\"106\" x2=\"144\" y2=\"106\" style=\"stroke-width:2\" />\n",
       "\n",
       "  <!-- Vertical lines -->\n",
       "  <line x1=\"24\" y1=\"14\" x2=\"24\" y2=\"106\" style=\"stroke-width:2\" />\n",
       "  <line x1=\"35\" y1=\"14\" x2=\"35\" y2=\"106\" />\n",
       "  <line x1=\"46\" y1=\"14\" x2=\"46\" y2=\"106\" />\n",
       "  <line x1=\"56\" y1=\"14\" x2=\"56\" y2=\"106\" />\n",
       "  <line x1=\"67\" y1=\"14\" x2=\"67\" y2=\"106\" />\n",
       "  <line x1=\"77\" y1=\"14\" x2=\"77\" y2=\"106\" />\n",
       "  <line x1=\"88\" y1=\"14\" x2=\"88\" y2=\"106\" />\n",
       "  <line x1=\"98\" y1=\"14\" x2=\"98\" y2=\"106\" />\n",
       "  <line x1=\"109\" y1=\"14\" x2=\"109\" y2=\"106\" />\n",
       "  <line x1=\"120\" y1=\"14\" x2=\"120\" y2=\"106\" />\n",
       "  <line x1=\"130\" y1=\"14\" x2=\"130\" y2=\"106\" />\n",
       "  <line x1=\"141\" y1=\"14\" x2=\"141\" y2=\"106\" />\n",
       "  <line x1=\"144\" y1=\"14\" x2=\"144\" y2=\"106\" style=\"stroke-width:2\" />\n",
       "\n",
       "  <!-- Colored Rectangle -->\n",
       "  <polygon points=\"24.9485979497544,14.948597949754403 144.9485979497544,14.948597949754403 144.9485979497544,106.94263874737072 24.9485979497544,106.94263874737072\" style=\"fill:#ECB172A0;stroke-width:0\"/>\n",
       "\n",
       "  <!-- Text -->\n",
       "  <text x=\"84.948598\" y=\"126.942639\" font-size=\"1.0rem\" font-weight=\"100\" text-anchor=\"middle\" >17452</text>\n",
       "  <text x=\"164.948598\" y=\"60.945618\" font-size=\"1.0rem\" font-weight=\"100\" text-anchor=\"middle\" transform=\"rotate(-90,164.948598,60.945618)\">13379</text>\n",
       "  <text x=\"7.474299\" y=\"119.468340\" font-size=\"1.0rem\" font-weight=\"100\" text-anchor=\"middle\" transform=\"rotate(45,7.474299,119.468340)\">103</text>\n",
       "</svg>\n",
       "        </td>\n",
       "    </tr>\n",
       "</table></div></li></ul></div></li><li class='xr-section-item'><input id='section-709c58f5-15ff-4680-bf2a-bf54ef376771' class='xr-section-summary-in' type='checkbox'  ><label for='section-709c58f5-15ff-4680-bf2a-bf54ef376771' class='xr-section-summary' >Indexes: <span>(3)</span></label><div class='xr-section-inline-details'></div><div class='xr-section-details'><ul class='xr-var-list'><li class='xr-var-item'><div class='xr-index-name'><div>band</div></div><div class='xr-index-preview'>PandasIndex</div><input type='checkbox' disabled/><label></label><input id='index-958bc5ac-aa51-40ed-ad13-4a11c12e38f6' class='xr-index-data-in' type='checkbox'/><label for='index-958bc5ac-aa51-40ed-ad13-4a11c12e38f6' title='Show/Hide index repr'><svg class='icon xr-icon-database'><use xlink:href='#icon-database'></use></svg></label><div class='xr-index-data'><pre>PandasIndex(Index([  1,   2,   3,   4,   5,   6,   7,   8,   9,  10,\n",
       "       ...\n",
       "        94,  95,  96,  97,  98,  99, 100, 101, 102, 103],\n",
       "      dtype=&#x27;int64&#x27;, name=&#x27;band&#x27;, length=103))</pre></div></li><li class='xr-var-item'><div class='xr-index-name'><div>x</div></div><div class='xr-index-preview'>PandasIndex</div><input type='checkbox' disabled/><label></label><input id='index-a36d5518-09ae-46c0-b29c-400781479979' class='xr-index-data-in' type='checkbox'/><label for='index-a36d5518-09ae-46c0-b29c-400781479979' title='Show/Hide index repr'><svg class='icon xr-icon-database'><use xlink:href='#icon-database'></use></svg></label><div class='xr-index-data'><pre>PandasIndex(Index([383265.0, 383295.0, 383325.0, 383355.0, 383385.0, 383415.0, 383445.0,\n",
       "       383475.0, 383505.0, 383535.0,\n",
       "       ...\n",
       "       906525.0, 906555.0, 906585.0, 906615.0, 906645.0, 906675.0, 906705.0,\n",
       "       906735.0, 906765.0, 906795.0],\n",
       "      dtype=&#x27;float64&#x27;, name=&#x27;x&#x27;, length=17452))</pre></div></li><li class='xr-var-item'><div class='xr-index-name'><div>y</div></div><div class='xr-index-preview'>PandasIndex</div><input type='checkbox' disabled/><label></label><input id='index-0594b95a-9098-45f7-8fe2-85b94624be98' class='xr-index-data-in' type='checkbox'/><label for='index-0594b95a-9098-45f7-8fe2-85b94624be98' title='Show/Hide index repr'><svg class='icon xr-icon-database'><use xlink:href='#icon-database'></use></svg></label><div class='xr-index-data'><pre>PandasIndex(Index([3308715.0, 3308685.0, 3308655.0, 3308625.0, 3308595.0, 3308565.0,\n",
       "       3308535.0, 3308505.0, 3308475.0, 3308445.0,\n",
       "       ...\n",
       "       2907645.0, 2907615.0, 2907585.0, 2907555.0, 2907525.0, 2907495.0,\n",
       "       2907465.0, 2907435.0, 2907405.0, 2907375.0],\n",
       "      dtype=&#x27;float64&#x27;, name=&#x27;y&#x27;, length=13379))</pre></div></li></ul></div></li><li class='xr-section-item'><input id='section-33a577cf-f6b2-4f41-8311-28c185a7041e' class='xr-section-summary-in' type='checkbox' disabled ><label for='section-33a577cf-f6b2-4f41-8311-28c185a7041e' class='xr-section-summary'  title='Expand/collapse section'>Attributes: <span>(0)</span></label><div class='xr-section-inline-details'></div><div class='xr-section-details'><dl class='xr-attrs'></dl></div></li></ul></div></div>"
      ],
      "text/plain": [
       "<xarray.Dataset> Size: 96GB\n",
       "Dimensions:      (band: 103, x: 17452, y: 13379)\n",
       "Coordinates:\n",
       "  * band         (band) int64 824B 1 2 3 4 5 6 7 8 ... 97 98 99 100 101 102 103\n",
       "  * x            (x) float64 140kB 3.833e+05 3.833e+05 ... 9.068e+05 9.068e+05\n",
       "  * y            (y) float64 107kB 3.309e+06 3.309e+06 ... 2.907e+06 2.907e+06\n",
       "    spatial_ref  int64 8B ...\n",
       "Data variables:\n",
       "    band_data    (band, y, x) float32 96GB dask.array<chunksize=(12, 1536, 1536), meta=np.ndarray>"
      ]
     },
     "execution_count": 33,
     "metadata": {},
     "output_type": "execute_result"
    }
   ],
   "source": [
    "ds_ls"
   ]
  },
  {
   "cell_type": "markdown",
   "id": "09617770",
   "metadata": {},
   "source": [
    "Depending on your use-case, you may want to adjust the chunking of the object. For example, if you are interested in analyzing variability along the temporal dimension, it might make sense to re-chunk the dataset so that operations along the that dimension are more easily parallelized. For more detail, see the {term}`chunking` discussion in [Relevant Concepts](../../background/6_relevant_concepts.md) and the [Parallel Computing with Dask](https://docs.xarray.dev/en/stable/user-guide/dask.html) section of the Xarray documentation. "
   ]
  },
  {
   "cell_type": "markdown",
   "id": "17c2ad54",
   "metadata": {},
   "source": [
    "## Conclusion\n",
    "\n",
    "This notebook demonstrated reading large data into memory by creating a virtual dataset that references that full dataset without directly reading it. However, we also saw that reading the data in this way produces an object that lacks important metadata. The next notebook will go through the steps of locating and adding relevant metadata to the backscatter data cubes read in this notebook.\n"
   ]
  }
 ],
 "metadata": {
  "kernelspec": {
   "display_name": "book",
   "language": "python",
   "name": "python3"
  },
  "language_info": {
   "codemirror_mode": {
    "name": "ipython",
    "version": 3
   },
   "file_extension": ".py",
   "mimetype": "text/x-python",
   "name": "python",
   "nbconvert_exporter": "python",
   "pygments_lexer": "ipython3",
   "version": "3.11.11"
  },
  "widgets": {
   "application/vnd.jupyter.widget-state+json": {
    "state": {},
    "version_major": 2,
    "version_minor": 0
   }
  }
 },
 "nbformat": 4,
 "nbformat_minor": 5
}
