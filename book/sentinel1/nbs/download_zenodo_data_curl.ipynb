{
 "cells": [
  {
   "cell_type": "markdown",
   "metadata": {},
   "source": [
    "# Downloading data from Zenodo"
   ]
  },
  {
   "cell_type": "code",
   "execution_count": null,
   "metadata": {},
   "outputs": [],
   "source": [
    "import pathlib\n",
    "\n",
    "cwd = pathlib.Path.cwd()"
   ]
  },
  {
   "cell_type": "markdown",
   "metadata": {},
   "source": [
    "Use this notebook to download and unzip Sentinel-1 RTC [data](https://zenodo.org/records/15036782) used in the tutorial. The file paths specified by `subset_download_dir` and `full_download_dir` are relative to the root directory of this repository and they will work if you've cloned the GitHub [repo](https://github.com/e-marshall/cloud-open-source-geospatial-datacube-workflows). \n",
    "\n",
    "If you plan to use the subset time series, execute the cells in the 'Subset timeseries` section below. If you plan to work with the full timeseries, execute the cells in the 'Full timeseries' section."
   ]
  },
  {
   "cell_type": "markdown",
   "metadata": {},
   "source": [
    "## Subset timeseries"
   ]
  },
  {
   "cell_type": "code",
   "execution_count": null,
   "metadata": {},
   "outputs": [],
   "source": [
    "subset_download_dir = str(\n",
    "    pathlib.Path(cwd.parent, \"data/raster_data/subset_timeseries/\")\n",
    ")"
   ]
  },
  {
   "cell_type": "code",
   "execution_count": null,
   "metadata": {},
   "outputs": [],
   "source": [
    "!mkdir -p {subset_download_dir}\n",
    "!wget -q -nc -O {subset_download_dir}/data.zip https://zenodo.org/records/15036782/files/asf_rtcs_subset.zip\n",
    "!unzip -q -n {subset_download_dir}/data.zip -d {subset_download_dir}\n",
    "\n"
   ]
  },
  {
   "cell_type": "markdown",
   "metadata": {},
   "source": [
    "## Full timeseries"
   ]
  },
  {
   "cell_type": "code",
   "execution_count": null,
   "metadata": {},
   "outputs": [],
   "source": [
    "full_download_dir = str(pathlib.Path(cwd.parent, \"data/raster_data/full_timeseries/\"))"
   ]
  },
  {
   "cell_type": "code",
   "execution_count": null,
   "metadata": {},
   "outputs": [],
   "source": [
    "!mkdir -p {full_download_dir}\n",
    "!wget -q -nc -O {full_download_dir}/data.zip https://zenodo.org/records/15036782/files/asf_rtcs_full.zip\n",
    "!unzip -q -n {full_download_dir}/data.zip -d {full_download_dir}\n",
    "\n"
   ]
  }
 ],
 "metadata": {
  "kernelspec": {
   "display_name": "geospatial_datacube_book_env",
   "language": "python",
   "name": "python3"
  },
  "language_info": {
   "codemirror_mode": {
    "name": "ipython",
    "version": 3
   },
   "file_extension": ".py",
   "mimetype": "text/x-python",
   "name": "python",
   "nbconvert_exporter": "python",
   "pygments_lexer": "ipython3"
  }
 },
 "nbformat": 4,
 "nbformat_minor": 2
}
